{
 "cells": [
  {
   "cell_type": "markdown",
   "id": "8081934c-ede4-4bee-94d1-13b931f29ec6",
   "metadata": {},
   "source": [
    "# Simple Logistic Regression\n",
    "In this tutorial, we will demonstrate how to run a simple logistic regression.\n",
    "Suppose a group of 20 students spends between 0 and 6 hours studying for an exam. How does the number of hours spent studying affect the probability of the student passing the exam?"
   ]
  },
  {
   "cell_type": "markdown",
   "id": "b976ced4-490e-46f6-9631-e0986a45627e",
   "metadata": {},
   "source": [
    "### Step 1: Import the Required Libraries"
   ]
  },
  {
   "cell_type": "code",
   "execution_count": 1,
   "id": "5225b8bb-930d-4a83-8c6b-ab2291c277cc",
   "metadata": {},
   "outputs": [],
   "source": [
    "import pandas as pd\n",
    "import numpy as np\n",
    "from sklearn.linear_model import LogisticRegression\n",
    "import matplotlib.pyplot as plt"
   ]
  },
  {
   "cell_type": "markdown",
   "id": "40291ecf-418d-4cca-a885-78dd95b07e40",
   "metadata": {},
   "source": [
    "### Step 2: Load the Dataset"
   ]
  },
  {
   "cell_type": "code",
   "execution_count": 2,
   "id": "3c013853-48a3-499a-b3cc-9f75c0f37de1",
   "metadata": {},
   "outputs": [
    {
     "data": {
      "text/html": [
       "<div>\n",
       "<style scoped>\n",
       "    .dataframe tbody tr th:only-of-type {\n",
       "        vertical-align: middle;\n",
       "    }\n",
       "\n",
       "    .dataframe tbody tr th {\n",
       "        vertical-align: top;\n",
       "    }\n",
       "\n",
       "    .dataframe thead th {\n",
       "        text-align: right;\n",
       "    }\n",
       "</style>\n",
       "<table border=\"1\" class=\"dataframe\">\n",
       "  <thead>\n",
       "    <tr style=\"text-align: right;\">\n",
       "      <th></th>\n",
       "      <th>Hours</th>\n",
       "      <th>Pass</th>\n",
       "    </tr>\n",
       "  </thead>\n",
       "  <tbody>\n",
       "    <tr>\n",
       "      <th>0</th>\n",
       "      <td>0.50</td>\n",
       "      <td>0</td>\n",
       "    </tr>\n",
       "    <tr>\n",
       "      <th>1</th>\n",
       "      <td>0.75</td>\n",
       "      <td>0</td>\n",
       "    </tr>\n",
       "    <tr>\n",
       "      <th>2</th>\n",
       "      <td>1.00</td>\n",
       "      <td>0</td>\n",
       "    </tr>\n",
       "    <tr>\n",
       "      <th>3</th>\n",
       "      <td>1.25</td>\n",
       "      <td>0</td>\n",
       "    </tr>\n",
       "    <tr>\n",
       "      <th>4</th>\n",
       "      <td>1.50</td>\n",
       "      <td>0</td>\n",
       "    </tr>\n",
       "  </tbody>\n",
       "</table>\n",
       "</div>"
      ],
      "text/plain": [
       "   Hours  Pass\n",
       "0   0.50     0\n",
       "1   0.75     0\n",
       "2   1.00     0\n",
       "3   1.25     0\n",
       "4   1.50     0"
      ]
     },
     "execution_count": 2,
     "metadata": {},
     "output_type": "execute_result"
    }
   ],
   "source": [
    "data = {\n",
    "    \"Hours\": [0.50, 0.75, 1.00, 1.25, 1.50, 1.75, 1.75, 2.00, 2.25, 2.50, 2.75, 3.00, 3.25, 3.50, 4.00, 4.25, 4.50, 4.75, 5.00, 5.50],\n",
    "    \"Pass\": [0, 0, 0, 0, 0, 0, 1, 0, 1, 0, 1, 0, 1, 0, 1, 1, 1, 1, 1, 1]\n",
    "}\n",
    "\n",
    "df = pd.DataFrame(data)\n",
    "df.head()"
   ]
  },
  {
   "cell_type": "markdown",
   "id": "5f0c072e-2342-44f8-9f6f-b42327efacac",
   "metadata": {},
   "source": [
    "### Step 3: Create and Fit the Logistic Regression Model"
   ]
  },
  {
   "cell_type": "code",
   "execution_count": 3,
   "id": "0ee9de1d-0364-4fc7-b70d-88c951566841",
   "metadata": {},
   "outputs": [],
   "source": [
    "X = df['Hours']\n",
    "Y = df['Pass']"
   ]
  },
  {
   "cell_type": "markdown",
   "id": "97fe0088-c9ec-46ca-9680-f4c41565d2c7",
   "metadata": {},
   "source": [
    "### Step 4: Visualize the Model"
   ]
  },
  {
   "cell_type": "code",
   "execution_count": 4,
   "id": "4567ad46-3891-4145-96fd-28697c3f7795",
   "metadata": {},
   "outputs": [
    {
     "data": {
      "text/plain": [
       "<matplotlib.collections.PathCollection at 0x21b83d304c0>"
      ]
     },
     "execution_count": 4,
     "metadata": {},
     "output_type": "execute_result"
    },
    {
     "data": {
      "image/png": "[encoded data removed]",
      "text/plain": [
       "<Figure size 640x480 with 1 Axes>"
      ]
     },
     "metadata": {},
     "output_type": "display_data"
    }
   ],
   "source": [
    "# Scatter plot the data points\n",
    "plt.scatter(X, Y, color='blue', label='Pass/Fail')"
   ]
  },
  {
   "cell_type": "code",
   "execution_count": 5,
   "id": "accb236c-bd45-4f99-9e1a-9768bf26d3a4",
   "metadata": {},
   "outputs": [
    {
     "data": {
      "text/plain": [
       "array([0.        , 0.06060606, 0.12121212, 0.18181818, 0.24242424,\n",
       "       0.3030303 , 0.36363636, 0.42424242, 0.48484848, 0.54545455,\n",
       "       0.60606061, 0.66666667, 0.72727273, 0.78787879, 0.84848485,\n",
       "       0.90909091, 0.96969697, 1.03030303, 1.09090909, 1.15151515,\n",
       "       1.21212121, 1.27272727, 1.33333333, 1.39393939, 1.45454545,\n",
       "       1.51515152, 1.57575758, 1.63636364, 1.6969697 , 1.75757576,\n",
       "       1.81818182, 1.87878788, 1.93939394, 2.        , 2.06060606,\n",
       "       2.12121212, 2.18181818, 2.24242424, 2.3030303 , 2.36363636,\n",
       "       2.42424242, 2.48484848, 2.54545455, 2.60606061, 2.66666667,\n",
       "       2.72727273, 2.78787879, 2.84848485, 2.90909091, 2.96969697,\n",
       "       3.03030303, 3.09090909, 3.15151515, 3.21212121, 3.27272727,\n",
       "       3.33333333, 3.39393939, 3.45454545, 3.51515152, 3.57575758,\n",
       "       3.63636364, 3.6969697 , 3.75757576, 3.81818182, 3.87878788,\n",
       "       3.93939394, 4.        , 4.06060606, 4.12121212, 4.18181818,\n",
       "       4.24242424, 4.3030303 , 4.36363636, 4.42424242, 4.48484848,\n",
       "       4.54545455, 4.60606061, 4.66666667, 4.72727273, 4.78787879,\n",
       "       4.84848485, 4.90909091, 4.96969697, 5.03030303, 5.09090909,\n",
       "       5.15151515, 5.21212121, 5.27272727, 5.33333333, 5.39393939,\n",
       "       5.45454545, 5.51515152, 5.57575758, 5.63636364, 5.6969697 ,\n",
       "       5.75757576, 5.81818182, 5.87878788, 5.93939394, 6.        ])"
      ]
     },
     "execution_count": 5,
     "metadata": {},
     "output_type": "execute_result"
    }
   ],
   "source": [
    "# Create a range of values for hours\n",
    "x_values = np.linspace(0, 6, 100)\n",
    "x_values"
   ]
  },
  {
   "cell_type": "code",
   "execution_count": 6,
   "id": "00b5262d-39f7-4d6e-a509-f767ea432592",
   "metadata": {},
   "outputs": [
    {
     "ename": "NameError",
     "evalue": "name 'model' is not defined",
     "output_type": "error",
     "traceback": [
      "\u001b[1;31m---------------------------------------------------------------------------\u001b[0m",
      "\u001b[1;31mNameError\u001b[0m                                 Traceback (most recent call last)",
      "Cell \u001b[1;32mIn[6], line 2\u001b[0m\n\u001b[0;32m      1\u001b[0m \u001b[38;5;66;03m# Calculate the predicted probabilities for each value of hours\u001b[39;00m\n\u001b[1;32m----> 2\u001b[0m y_values \u001b[38;5;241m=\u001b[39m \u001b[43mmodel\u001b[49m\u001b[38;5;241m.\u001b[39mpredict_proba(x_values\u001b[38;5;241m.\u001b[39mreshape(\u001b[38;5;241m-\u001b[39m\u001b[38;5;241m1\u001b[39m, \u001b[38;5;241m1\u001b[39m))[:, \u001b[38;5;241m1\u001b[39m]\n\u001b[0;32m      3\u001b[0m y_values\n",
      "\u001b[1;31mNameError\u001b[0m: name 'model' is not defined"
     ]
    }
   ],
   "source": [
    "# Calculate the predicted probabilities for each value of hours\n",
    "y_values = model.predict_proba(x_values.reshape(-1, 1))[:, 1]\n",
    "y_values"
   ]
  },
  {
   "cell_type": "markdown",
   "id": "46709c46-82be-4976-a022-8e750f968ba2",
   "metadata": {},
   "source": [
    "In the above code, model.predict_proba() function takes and 2D array as input. Therefore we need to convert x_values into a 2D array by reshaping.\n",
    "\n",
    "In NumPy, when you use the reshape() method with the argument -1 in one dimension, it means that you want NumPy to automatically calculate the size of that dimension to match the original size while ensuring that the other dimensions remain unchanged. When used with reshape(-1, 1), you are essentially asking NumPy to transform the array into a 2D array with one column, and the number of rows will be determined automatically based on the original array's size."
   ]
  },
  {
   "cell_type": "code",
   "execution_count": null,
   "id": "da567514-c94a-468e-be04-fcf401f972b4",
   "metadata": {},
   "outputs": [],
   "source": [
    "# Scatter plot the data points\n",
    "plt.scatter(X, Y, color='blue', label='Pass/Fail')\n",
    "\n",
    "# Plot the decision boundary\n",
    "plt.plot(x_values, y_values, color='green', label='Decision Boundary')\n",
    "\n",
    "# Add labels and legend\n",
    "plt.xlabel('Hours of Study')\n",
    "plt.ylabel('Probability of Passing')\n",
    "plt.legend(loc='best')\n",
    "\n",
    "# Show the plot\n",
    "plt.show()"
   ]
  },
  {
   "cell_type": "code",
   "execution_count": null,
   "id": "9579c87f-3d15-4ca7-b14b-eab69c632460",
   "metadata": {},
   "outputs": [],
   "source": [
    "from sklearn.metrics import confusion_matrix, accuracy_score, precision_score, recall_score, f1_score\n",
    "\n",
    "# Predict probabilities and classes\n",
    "predicted_probabilities = model.predict_proba(X)\n",
    "predicted_classes = model.predict(X)"
   ]
  },
  {
   "cell_type": "code",
   "execution_count": null,
   "id": "a78f3c89-2ea4-446e-a6e6-ed10a869763d",
   "metadata": {},
   "outputs": [],
   "source": [
    "# Extract true positives, false positives, true negatives, and false negatives\n",
    "true_positives = (predicted_classes == 1) & (Y == 1)\n",
    "false_positives = (predicted_classes == 1) & (Y == 0)\n",
    "true_negatives = (predicted_classes == 0) & (Y == 0)\n",
    "false_negatives = (predicted_classes == 0) & (Y == 1)"
   ]
  },
  {
   "cell_type": "code",
   "execution_count": null,
   "id": "eb36afa1-0b43-4e59-9ad0-0f2f41babfb9",
   "metadata": {},
   "outputs": [],
   "source": [
    "# Plot the data points with different colors\n",
    "plt.scatter(X[true_positives], Y[true_positives], c='g', marker='o', label='True Positives')\n",
    "plt.scatter(X[false_positives], Y[false_positives], c='r', marker='x', label='False Positives')\n",
    "plt.scatter(X[true_negatives], Y[true_negatives], c='g', marker='s', label='True Negatives')\n",
    "plt.scatter(X[false_negatives], Y[false_negatives], c='r', marker='^', label='False Negatives')\n",
    "\n",
    "# Plot the decision boundary\n",
    "plt.plot(x_values, y_values, color='green', label='Decision Boundary')\n",
    "\n",
    "plt.xlabel(\"Hours\")\n",
    "plt.ylabel(\"Pass\")\n",
    "plt.legend(loc='best')\n",
    "plt.title(\"Logistic Regression Model\")\n",
    "plt.show()"
   ]
  },
  {
   "cell_type": "code",
   "execution_count": null,
   "id": "f0fef2a6-03a9-4bbb-9799-934407249d02",
   "metadata": {},
   "outputs": [],
   "source": [
    "# Calculate and print the confusion matrix\n",
    "confusion = confusion_matrix(Y, predicted_classes)\n",
    "print(\"Confusion Matrix:\")\n",
    "print(confusion)"
   ]
  },
  {
   "cell_type": "code",
   "execution_count": null,
   "id": "171557f3-4696-4401-ad01-f1fd37bc1de4",
   "metadata": {},
   "outputs": [],
   "source": [
    "# Calculate and print accuracy, precision, recall, and F1 score\n",
    "accuracy = accuracy_score(Y, predicted_classes)\n",
    "precision = precision_score(Y, predicted_classes)\n",
    "recall = recall_score(Y, predicted_classes)\n",
    "f1 = f1_score(Y, predicted_classes)\n",
    "\n",
    "print(f\"Accuracy: {accuracy:.2f}\")\n",
    "print(f\"Precision: {precision:.2f}\")\n",
    "print(f\"Recall: {recall:.2f}\")\n",
    "print(f\"F1 Score: {f1:.2f}\")"
   ]
  },
  {
   "cell_type": "code",
   "execution_count": null,
   "id": "c162d8a3-820b-4b57-a17f-5d235ca9e99b",
   "metadata": {},
   "outputs": [],
   "source": []
  }
 ],
 "metadata": {
  "kernelspec": {
   "display_name": "Python 3 (ipykernel)",
   "language": "python",
   "name": "python3"
  },
  "language_info": {
   "codemirror_mode": {
    "name": "ipython",
    "version": 3
   },
   "file_extension": ".py",
   "mimetype": "text/x-python",
   "name": "python",
   "nbconvert_exporter": "python",
   "pygments_lexer": "ipython3",
   "version": "3.10.11"
  }
 },
 "nbformat": 4,
 "nbformat_minor": 5
}
