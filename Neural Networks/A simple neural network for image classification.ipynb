{
 "cells": [
  {
   "cell_type": "markdown",
   "id": "ec2ca093-53d2-4c5f-87d7-1ad31dd5ccf3",
   "metadata": {},
   "source": [
    "# A simple neural network for image classification\n",
    "In this tutorial, we will build a simple neural network for image classification."
   ]
  },
  {
   "cell_type": "markdown",
   "id": "91323042-e884-483f-a012-668b3c4506d4",
   "metadata": {},
   "source": [
    "### Step 1: Import Necessary Libraries"
   ]
  },
  {
   "cell_type": "code",
   "execution_count": 1,
   "id": "03f17450-9f86-4318-bfd1-7462d1749c07",
   "metadata": {},
   "outputs": [],
   "source": [
    "import torch\n",
    "import torch.nn as nn\n",
    "import torch.optim as optim\n",
    "from torchvision import datasets, transforms"
   ]
  },
  {
   "cell_type": "markdown",
   "id": "bdaa98b9-eb93-4907-9683-f83d7d59c3c0",
   "metadata": {},
   "source": [
    "### Step 2: Load the MNIST Dataset"
   ]
  },
  {
   "cell_type": "markdown",
   "id": "e425d6b2-c528-47e7-aa31-2fa0a00221c0",
   "metadata": {},
   "source": [
    "In this tutorial, we will load the MNIST dataset. \n",
    "\n",
    "The MNIST dataset is a widely-used benchmark dataset in the field of machine learning and computer vision. It stands for Modified National Institute of Standards and Technology database. The dataset consists of a collection of 28x28 pixel grayscale images of handwritten digits (0-9), along with their corresponding labels indicating the digit represented in each image.\n",
    "\n",
    "Images: Each image in the MNIST dataset is a grayscale image with dimensions of 28 pixels by 28 pixels. The pixel values range from 0 to 255, where 0 represents white and 255 represents black.\n",
    "\n",
    "Labels: Each image is associated with a label, which indicates the digit (0-9) represented by the handwritten digit in the image. For example, an image of the digit '3' will have a label of 3.\n",
    "\n",
    "Size: The MNIST dataset contains a total of 70,000 images, split into two subsets:\n",
    "\n",
    "Training set: 60,000 images with corresponding labels, used for training machine learning m\n",
    "odels.\n",
    "Test set: 10,000 images with corresponding labels, used for evaluating the performance of trained \n",
    "\n",
    "More info about the MNIST dataset can be found at: https://en.wikipedia.org/wiki/MNIST_database#:~:text=The%20MNIST%20database%20(Modified%20National,the%20field%20of%20machine%20learning.models."
   ]
  },
  {
   "cell_type": "code",
   "execution_count": 2,
   "id": "beadbe31-4b0e-473b-ad94-506050e3958d",
   "metadata": {},
   "outputs": [],
   "source": [
    "# We'll load the MNIST dataset and apply transformations to normalize the image data:\n",
    "\n",
    "transform = transforms.Compose([\n",
    "    transforms.ToTensor(), # converts input image data into PyTorch tensors. It also scales the pixel values to the range [0, 1]. For images, each pixel value is divided by 255 to achieve this scaling.\n",
    "    transforms.Normalize((0.5,), (0.5,)) # standardizes the tensor data by subtracting the mean and dividing by the standard deviation along each channel. \n",
    "    # In this case, it subtracts the mean of 0.5 and divides by the standard deviation of 0.5 for each channel. \n",
    "    # This normalization step helps improve model training convergence and performance by ensuring that the input data has a consistent scale and distribution.\n",
    "])\n",
    "\n",
    "train_dataset = datasets.MNIST(root='./data', train=True, transform=transform, download=True)\n",
    "test_dataset = datasets.MNIST(root='./data', train=False, transform=transform)"
   ]
  },
  {
   "cell_type": "markdown",
   "id": "601b53be-de7d-4ba0-af5d-24b438a46312",
   "metadata": {},
   "source": [
    "### Step 3: Create Data Loaders\n",
    "Now, let's create data loaders to load the data in batches during training and testing.\n",
    "\n",
    "The DataLoader in PyTorch is a utility that helps in creating batches of data from a dataset during training or evaluation of a neural network. It provides functionalities to shuffle the data, load the data in parallel using multiprocessing, and create batches of data."
   ]
  },
  {
   "cell_type": "code",
   "execution_count": 3,
   "id": "acaaee81-c6fc-4793-a5bd-65d1810eded3",
   "metadata": {},
   "outputs": [],
   "source": [
    "batch_size = 64 # This parameter specifies the number of samples in each batch. \n",
    "\n",
    "train_loader = torch.utils.data.DataLoader(train_dataset, batch_size=batch_size, shuffle=True)\n",
    "test_loader = torch.utils.data.DataLoader(test_dataset, batch_size=batch_size, shuffle=False)"
   ]
  },
  {
   "cell_type": "markdown",
   "id": "5a9c1b61-1c05-4dcf-8aef-a1f0b71d8d87",
   "metadata": {},
   "source": [
    "### Step 4: Define the Neural Network Model\n",
    "We'll define a simple neural network model with one hidden layer:"
   ]
  },
  {
   "cell_type": "code",
   "execution_count": 4,
   "id": "4ba29f95-1653-4a9a-bba5-2438e8931815",
   "metadata": {},
   "outputs": [],
   "source": [
    "class SimpleNN(nn.Module):\n",
    "    def __init__(self):\n",
    "        super(SimpleNN, self).__init__()\n",
    "        self.fc1 = nn.Linear(28*28, 128)\n",
    "        self.fc2 = nn.Linear(128, 10)\n",
    "        self.relu = nn.ReLU()\n",
    "    \n",
    "    def forward(self, x):\n",
    "        x = x.view(-1, 28*28)\n",
    "        x = self.relu(self.fc1(x))\n",
    "        x = self.fc2(x)\n",
    "        return x"
   ]
  },
  {
   "cell_type": "markdown",
   "id": "51f20e62-0938-46c8-848c-05fcdfd8c6ec",
   "metadata": {},
   "source": [
    "### Step 5: Instantiate the Model, Loss Function, and Optimizer\n",
    "Next, let's instantiate the model, define the loss function (criterion), and choose an optimizer (e.g., SGD or Adam):"
   ]
  },
  {
   "cell_type": "code",
   "execution_count": 5,
   "id": "6c0c8d5f-27d0-4524-a61d-e596a86fb642",
   "metadata": {},
   "outputs": [],
   "source": [
    "model = SimpleNN()\n",
    "criterion = nn.CrossEntropyLoss()\n",
    "optimizer = optim.SGD(model.parameters(), lr=0.01)"
   ]
  },
  {
   "cell_type": "markdown",
   "id": "052b23fa-a064-4a22-a7dd-68438c2dedce",
   "metadata": {},
   "source": [
    "### Step 6: Train the Model\n"
   ]
  },
  {
   "cell_type": "code",
   "execution_count": 6,
   "id": "9b1e8795-b729-41ac-8480-63892a37f73e",
   "metadata": {},
   "outputs": [
    {
     "name": "stdout",
     "output_type": "stream",
     "text": [
      "Epoch [1/10], Step [100/938], Loss: 1.9249\n",
      "Epoch [1/10], Step [200/938], Loss: 1.2201\n",
      "Epoch [1/10], Step [300/938], Loss: 0.8324\n",
      "Epoch [1/10], Step [400/938], Loss: 0.6438\n",
      "Epoch [1/10], Step [500/938], Loss: 0.5627\n",
      "Epoch [1/10], Step [600/938], Loss: 0.5170\n",
      "Epoch [1/10], Step [700/938], Loss: 0.4854\n",
      "Epoch [1/10], Step [800/938], Loss: 0.4520\n",
      "Epoch [1/10], Step [900/938], Loss: 0.4215\n",
      "Epoch [2/10], Step [100/938], Loss: 0.4046\n",
      "Epoch [2/10], Step [200/938], Loss: 0.3795\n",
      "Epoch [2/10], Step [300/938], Loss: 0.3957\n",
      "Epoch [2/10], Step [400/938], Loss: 0.3902\n",
      "Epoch [2/10], Step [500/938], Loss: 0.3634\n",
      "Epoch [2/10], Step [600/938], Loss: 0.3374\n",
      "Epoch [2/10], Step [700/938], Loss: 0.3572\n",
      "Epoch [2/10], Step [800/938], Loss: 0.3306\n",
      "Epoch [2/10], Step [900/938], Loss: 0.3472\n",
      "Epoch [3/10], Step [100/938], Loss: 0.3309\n",
      "Epoch [3/10], Step [200/938], Loss: 0.3201\n",
      "Epoch [3/10], Step [300/938], Loss: 0.3422\n",
      "Epoch [3/10], Step [400/938], Loss: 0.3096\n",
      "Epoch [3/10], Step [500/938], Loss: 0.3257\n",
      "Epoch [3/10], Step [600/938], Loss: 0.3225\n",
      "Epoch [3/10], Step [700/938], Loss: 0.3230\n",
      "Epoch [3/10], Step [800/938], Loss: 0.3027\n",
      "Epoch [3/10], Step [900/938], Loss: 0.2982\n",
      "Epoch [4/10], Step [100/938], Loss: 0.3052\n",
      "Epoch [4/10], Step [200/938], Loss: 0.2939\n",
      "Epoch [4/10], Step [300/938], Loss: 0.2881\n",
      "Epoch [4/10], Step [400/938], Loss: 0.2986\n",
      "Epoch [4/10], Step [500/938], Loss: 0.2848\n",
      "Epoch [4/10], Step [600/938], Loss: 0.2808\n",
      "Epoch [4/10], Step [700/938], Loss: 0.3059\n",
      "Epoch [4/10], Step [800/938], Loss: 0.2927\n",
      "Epoch [4/10], Step [900/938], Loss: 0.2814\n",
      "Epoch [5/10], Step [100/938], Loss: 0.2694\n",
      "Epoch [5/10], Step [200/938], Loss: 0.2754\n",
      "Epoch [5/10], Step [300/938], Loss: 0.2834\n",
      "Epoch [5/10], Step [400/938], Loss: 0.2660\n",
      "Epoch [5/10], Step [500/938], Loss: 0.2829\n",
      "Epoch [5/10], Step [600/938], Loss: 0.2627\n",
      "Epoch [5/10], Step [700/938], Loss: 0.2678\n",
      "Epoch [5/10], Step [800/938], Loss: 0.2618\n",
      "Epoch [5/10], Step [900/938], Loss: 0.2616\n",
      "Epoch [6/10], Step [100/938], Loss: 0.2689\n",
      "Epoch [6/10], Step [200/938], Loss: 0.2549\n",
      "Epoch [6/10], Step [300/938], Loss: 0.2482\n",
      "Epoch [6/10], Step [400/938], Loss: 0.2551\n",
      "Epoch [6/10], Step [500/938], Loss: 0.2515\n",
      "Epoch [6/10], Step [600/938], Loss: 0.2456\n",
      "Epoch [6/10], Step [700/938], Loss: 0.2667\n",
      "Epoch [6/10], Step [800/938], Loss: 0.2411\n",
      "Epoch [6/10], Step [900/938], Loss: 0.2401\n",
      "Epoch [7/10], Step [100/938], Loss: 0.2625\n",
      "Epoch [7/10], Step [200/938], Loss: 0.2231\n",
      "Epoch [7/10], Step [300/938], Loss: 0.2723\n",
      "Epoch [7/10], Step [400/938], Loss: 0.2288\n",
      "Epoch [7/10], Step [500/938], Loss: 0.2115\n",
      "Epoch [7/10], Step [600/938], Loss: 0.2295\n",
      "Epoch [7/10], Step [700/938], Loss: 0.2322\n",
      "Epoch [7/10], Step [800/938], Loss: 0.2230\n",
      "Epoch [7/10], Step [900/938], Loss: 0.2268\n",
      "Epoch [8/10], Step [100/938], Loss: 0.2246\n",
      "Epoch [8/10], Step [200/938], Loss: 0.2298\n",
      "Epoch [8/10], Step [300/938], Loss: 0.2181\n",
      "Epoch [8/10], Step [400/938], Loss: 0.2254\n",
      "Epoch [8/10], Step [500/938], Loss: 0.2227\n",
      "Epoch [8/10], Step [600/938], Loss: 0.2054\n",
      "Epoch [8/10], Step [700/938], Loss: 0.2145\n",
      "Epoch [8/10], Step [800/938], Loss: 0.2131\n",
      "Epoch [8/10], Step [900/938], Loss: 0.2187\n",
      "Epoch [9/10], Step [100/938], Loss: 0.2135\n",
      "Epoch [9/10], Step [200/938], Loss: 0.2007\n",
      "Epoch [9/10], Step [300/938], Loss: 0.2046\n",
      "Epoch [9/10], Step [400/938], Loss: 0.2055\n",
      "Epoch [9/10], Step [500/938], Loss: 0.2084\n",
      "Epoch [9/10], Step [600/938], Loss: 0.2050\n",
      "Epoch [9/10], Step [700/938], Loss: 0.1953\n",
      "Epoch [9/10], Step [800/938], Loss: 0.2085\n",
      "Epoch [9/10], Step [900/938], Loss: 0.2089\n",
      "Epoch [10/10], Step [100/938], Loss: 0.2001\n",
      "Epoch [10/10], Step [200/938], Loss: 0.1967\n",
      "Epoch [10/10], Step [300/938], Loss: 0.1964\n",
      "Epoch [10/10], Step [400/938], Loss: 0.1833\n",
      "Epoch [10/10], Step [500/938], Loss: 0.2018\n",
      "Epoch [10/10], Step [600/938], Loss: 0.1973\n",
      "Epoch [10/10], Step [700/938], Loss: 0.1939\n",
      "Epoch [10/10], Step [800/938], Loss: 0.1825\n",
      "Epoch [10/10], Step [900/938], Loss: 0.1954\n"
     ]
    }
   ],
   "source": [
    "num_epochs = 10\n",
    "\n",
    "for epoch in range(num_epochs):\n",
    "    running_loss = 0.0\n",
    "    for i, (images, labels) in enumerate(train_loader):\n",
    "        optimizer.zero_grad()\n",
    "        outputs = model(images)\n",
    "        loss = criterion(outputs, labels)\n",
    "        loss.backward()\n",
    "        optimizer.step()\n",
    "        running_loss += loss.item()\n",
    "        if (i+1) % 100 == 0:\n",
    "            print(f'Epoch [{epoch+1}/{num_epochs}], Step [{i+1}/{len(train_loader)}], Loss: {running_loss/100:.4f}')\n",
    "            running_loss = 0.0\n"
   ]
  },
  {
   "cell_type": "markdown",
   "id": "f51f0783-c6b5-44ad-a0bf-bea5cbdb0398",
   "metadata": {},
   "source": [
    "### Step 7: Evaluate the Model\n",
    "Finally, let's evaluate the trained model on the test data:"
   ]
  },
  {
   "cell_type": "code",
   "execution_count": 7,
   "id": "5b897a28-a4ce-498b-bc0e-41b4866478ef",
   "metadata": {},
   "outputs": [
    {
     "name": "stdout",
     "output_type": "stream",
     "text": [
      "Accuracy on the test set: 94.62%\n"
     ]
    }
   ],
   "source": [
    "correct = 0\n",
    "total = 0\n",
    "with torch.no_grad():\n",
    "    for images, labels in test_loader:\n",
    "        outputs = model(images)\n",
    "        _, predicted = torch.max(outputs.data, 1)\n",
    "        total += labels.size(0)\n",
    "        correct += (predicted == labels).sum().item()\n",
    "\n",
    "print(f'Accuracy on the test set: {(100 * correct / total):.2f}%')"
   ]
  }
 ],
 "metadata": {
  "kernelspec": {
   "display_name": "Python 3 (ipykernel)",
   "language": "python",
   "name": "python3"
  },
  "language_info": {
   "codemirror_mode": {
    "name": "ipython",
    "version": 3
   },
   "file_extension": ".py",
   "mimetype": "text/x-python",
   "name": "python",
   "nbconvert_exporter": "python",
   "pygments_lexer": "ipython3",
   "version": "3.10.11"
  }
 },
 "nbformat": 4,
 "nbformat_minor": 5
}
