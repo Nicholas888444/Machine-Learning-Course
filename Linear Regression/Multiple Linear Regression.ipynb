{
 "cells": [
  {
   "cell_type": "markdown",
   "id": "47567f15-0802-4415-ae1f-76a75b28afe5",
   "metadata": {},
   "source": [
    "# Multiple Linear Regression"
   ]
  },
  {
   "cell_type": "markdown",
   "id": "701fde79-6174-4871-9cea-9022675aaec8",
   "metadata": {},
   "source": [
    "Performing multiple linear regression in Python is similar to simple linear regression, but you work with multiple independent variables (features) instead of just one.  \n",
    "Here's a step-by-step guide on how to perform multiple linear regression using Python and scikit-learn:"
   ]
  },
  {
   "cell_type": "markdown",
   "id": "26bc3772-2534-4bf6-b1aa-8d347f54ca34",
   "metadata": {},
   "source": [
    "### Step 1: Import the necessary libraries"
   ]
  },
  {
   "cell_type": "code",
   "execution_count": 1,
   "id": "0267b9fd-8ffd-4a53-958e-636d045d1e79",
   "metadata": {},
   "outputs": [],
   "source": [
    "import numpy as np\n",
    "import pandas as pd\n",
    "from sklearn.linear_model import LinearRegression\n",
    "from sklearn.metrics import mean_squared_error, r2_score\n",
    "from sklearn.model_selection import train_test_split"
   ]
  },
  {
   "cell_type": "markdown",
   "id": "c6f7483e-238a-45cf-9129-ada8fec5d6a7",
   "metadata": {},
   "source": [
    "### Step 2: Load and explore your dataset"
   ]
  },
  {
   "attachments": {},
   "cell_type": "markdown",
   "id": "a398fd01-abd8-4066-9ced-02f5ccb1d46c",
   "metadata": {},
   "source": [
    "Load your dataset using pandas:  \n",
    "data = pd.read_csv('your_dataset.csv')  \n",
    "In this tutorial, we will use the Boston Housing dataset. The Boston Housing Dataset is a derived from information collected by the U.S. Census Service concerning housing in the area of Boston MA. More info about the dataset can be found at: https://www.kaggle.com/code/prasadperera/the-boston-housing-dataset."
   ]
  },
  {
   "cell_type": "code",
   "execution_count": 2,
   "id": "8497061c-ceac-4084-af71-2ba7baa40541",
   "metadata": {},
   "outputs": [],
   "source": [
    "data = pd.read_csv('https://github.com/YBIFoundation/Dataset/raw/main/Boston.csv')"
   ]
  },
  {
   "cell_type": "markdown",
   "id": "0a9d92bc-b82f-4eac-82c3-e0a32bd2e870",
   "metadata": {},
   "source": [
    "Explore the dataset as needed using commands like data.head() and data.info() to understand the structure and data types."
   ]
  },
  {
   "cell_type": "code",
   "execution_count": 3,
   "id": "fd566ce4-4314-4c7e-9f7c-fbfb683f1492",
   "metadata": {},
   "outputs": [
    {
     "data": {
      "text/html": [
       "<div>\n",
       "<style scoped>\n",
       "    .dataframe tbody tr th:only-of-type {\n",
       "        vertical-align: middle;\n",
       "    }\n",
       "\n",
       "    .dataframe tbody tr th {\n",
       "        vertical-align: top;\n",
       "    }\n",
       "\n",
       "    .dataframe thead th {\n",
       "        text-align: right;\n",
       "    }\n",
       "</style>\n",
       "<table border=\"1\" class=\"dataframe\">\n",
       "  <thead>\n",
       "    <tr style=\"text-align: right;\">\n",
       "      <th></th>\n",
       "      <th>CRIM</th>\n",
       "      <th>ZN</th>\n",
       "      <th>INDUS</th>\n",
       "      <th>CHAS</th>\n",
       "      <th>NX</th>\n",
       "      <th>RM</th>\n",
       "      <th>AGE</th>\n",
       "      <th>DIS</th>\n",
       "      <th>RAD</th>\n",
       "      <th>TAX</th>\n",
       "      <th>PTRATIO</th>\n",
       "      <th>B</th>\n",
       "      <th>LSTAT</th>\n",
       "      <th>MEDV</th>\n",
       "    </tr>\n",
       "  </thead>\n",
       "  <tbody>\n",
       "    <tr>\n",
       "      <th>0</th>\n",
       "      <td>0.00632</td>\n",
       "      <td>18.0</td>\n",
       "      <td>2.31</td>\n",
       "      <td>0</td>\n",
       "      <td>0.538</td>\n",
       "      <td>6.575</td>\n",
       "      <td>65.2</td>\n",
       "      <td>4.0900</td>\n",
       "      <td>1</td>\n",
       "      <td>296.0</td>\n",
       "      <td>15.3</td>\n",
       "      <td>396.90</td>\n",
       "      <td>4.98</td>\n",
       "      <td>24.0</td>\n",
       "    </tr>\n",
       "    <tr>\n",
       "      <th>1</th>\n",
       "      <td>0.02731</td>\n",
       "      <td>0.0</td>\n",
       "      <td>7.07</td>\n",
       "      <td>0</td>\n",
       "      <td>0.469</td>\n",
       "      <td>6.421</td>\n",
       "      <td>78.9</td>\n",
       "      <td>4.9671</td>\n",
       "      <td>2</td>\n",
       "      <td>242.0</td>\n",
       "      <td>17.8</td>\n",
       "      <td>396.90</td>\n",
       "      <td>9.14</td>\n",
       "      <td>21.6</td>\n",
       "    </tr>\n",
       "    <tr>\n",
       "      <th>2</th>\n",
       "      <td>0.02729</td>\n",
       "      <td>0.0</td>\n",
       "      <td>7.07</td>\n",
       "      <td>0</td>\n",
       "      <td>0.469</td>\n",
       "      <td>7.185</td>\n",
       "      <td>61.1</td>\n",
       "      <td>4.9671</td>\n",
       "      <td>2</td>\n",
       "      <td>242.0</td>\n",
       "      <td>17.8</td>\n",
       "      <td>392.83</td>\n",
       "      <td>4.03</td>\n",
       "      <td>34.7</td>\n",
       "    </tr>\n",
       "    <tr>\n",
       "      <th>3</th>\n",
       "      <td>0.03237</td>\n",
       "      <td>0.0</td>\n",
       "      <td>2.18</td>\n",
       "      <td>0</td>\n",
       "      <td>0.458</td>\n",
       "      <td>6.998</td>\n",
       "      <td>45.8</td>\n",
       "      <td>6.0622</td>\n",
       "      <td>3</td>\n",
       "      <td>222.0</td>\n",
       "      <td>18.7</td>\n",
       "      <td>394.63</td>\n",
       "      <td>2.94</td>\n",
       "      <td>33.4</td>\n",
       "    </tr>\n",
       "    <tr>\n",
       "      <th>4</th>\n",
       "      <td>0.06905</td>\n",
       "      <td>0.0</td>\n",
       "      <td>2.18</td>\n",
       "      <td>0</td>\n",
       "      <td>0.458</td>\n",
       "      <td>7.147</td>\n",
       "      <td>54.2</td>\n",
       "      <td>6.0622</td>\n",
       "      <td>3</td>\n",
       "      <td>222.0</td>\n",
       "      <td>18.7</td>\n",
       "      <td>396.90</td>\n",
       "      <td>5.33</td>\n",
       "      <td>36.2</td>\n",
       "    </tr>\n",
       "  </tbody>\n",
       "</table>\n",
       "</div>"
      ],
      "text/plain": [
       "      CRIM    ZN  INDUS  CHAS     NX     RM   AGE     DIS  RAD    TAX  \\\n",
       "0  0.00632  18.0   2.31     0  0.538  6.575  65.2  4.0900    1  296.0   \n",
       "1  0.02731   0.0   7.07     0  0.469  6.421  78.9  4.9671    2  242.0   \n",
       "2  0.02729   0.0   7.07     0  0.469  7.185  61.1  4.9671    2  242.0   \n",
       "3  0.03237   0.0   2.18     0  0.458  6.998  45.8  6.0622    3  222.0   \n",
       "4  0.06905   0.0   2.18     0  0.458  7.147  54.2  6.0622    3  222.0   \n",
       "\n",
       "   PTRATIO       B  LSTAT  MEDV  \n",
       "0     15.3  396.90   4.98  24.0  \n",
       "1     17.8  396.90   9.14  21.6  \n",
       "2     17.8  392.83   4.03  34.7  \n",
       "3     18.7  394.63   2.94  33.4  \n",
       "4     18.7  396.90   5.33  36.2  "
      ]
     },
     "execution_count": 3,
     "metadata": {},
     "output_type": "execute_result"
    }
   ],
   "source": [
    "data.head()"
   ]
  },
  {
   "cell_type": "code",
   "execution_count": 4,
   "id": "18ce2900-dc57-4aec-aaa6-ce401f218b63",
   "metadata": {},
   "outputs": [
    {
     "name": "stdout",
     "output_type": "stream",
     "text": [
      "<class 'pandas.core.frame.DataFrame'>\n",
      "RangeIndex: 506 entries, 0 to 505\n",
      "Data columns (total 14 columns):\n",
      " #   Column   Non-Null Count  Dtype  \n",
      "---  ------   --------------  -----  \n",
      " 0   CRIM     506 non-null    float64\n",
      " 1   ZN       506 non-null    float64\n",
      " 2   INDUS    506 non-null    float64\n",
      " 3   CHAS     506 non-null    int64  \n",
      " 4   NX       506 non-null    float64\n",
      " 5   RM       506 non-null    float64\n",
      " 6   AGE      506 non-null    float64\n",
      " 7   DIS      506 non-null    float64\n",
      " 8   RAD      506 non-null    int64  \n",
      " 9   TAX      506 non-null    float64\n",
      " 10  PTRATIO  506 non-null    float64\n",
      " 11  B        506 non-null    float64\n",
      " 12  LSTAT    506 non-null    float64\n",
      " 13  MEDV     506 non-null    float64\n",
      "dtypes: float64(12), int64(2)\n",
      "memory usage: 55.5 KB\n"
     ]
    }
   ],
   "source": [
    "data.info()"
   ]
  },
  {
   "cell_type": "markdown",
   "id": "0ce3b689-2347-4217-a7cf-57da65c60a7d",
   "metadata": {},
   "source": [
    "### Step 3: Prepare your data"
   ]
  },
  {
   "cell_type": "markdown",
   "id": "361fbb54-3e46-4470-a26a-b990c450799a",
   "metadata": {},
   "source": [
    "For multiple linear regression, you need to select the independent variables (features) and the dependent variable (target). Extract these columns from your dataset:  \n",
    "X = data[['Feature1', 'Feature2', 'Feature3']]  # Include all the independent variables you want to use  \r\n",
    "Y = data['Target_Variable]  \n",
    "In this example, we will select MEDV (Median value of owner-occupied homes in $1000's) as dependent variable, and the rest of all other variables as independent variables, to build a multiple linear regression model for predicting house values.\r\n"
   ]
  },
  {
   "cell_type": "code",
   "execution_count": 5,
   "id": "4933afbc-fa0c-4319-b010-aa56f1f6b0cc",
   "metadata": {},
   "outputs": [],
   "source": [
    "Y = data['MEDV']\n",
    "X = data.drop(['MEDV'],axis=1) # Select all variables except for MEDV"
   ]
  },
  {
   "cell_type": "code",
   "execution_count": 6,
   "id": "e53cc554-e044-4f7b-9d38-dd328cdd8245",
   "metadata": {},
   "outputs": [
    {
     "data": {
      "text/plain": [
       "0      24.0\n",
       "1      21.6\n",
       "2      34.7\n",
       "3      33.4\n",
       "4      36.2\n",
       "       ... \n",
       "501    22.4\n",
       "502    20.6\n",
       "503    23.9\n",
       "504    22.0\n",
       "505    11.9\n",
       "Name: MEDV, Length: 506, dtype: float64"
      ]
     },
     "execution_count": 6,
     "metadata": {},
     "output_type": "execute_result"
    }
   ],
   "source": [
    "Y"
   ]
  },
  {
   "cell_type": "code",
   "execution_count": 7,
   "id": "0b1f5784-6f91-4ea3-8044-e61f0e7da586",
   "metadata": {},
   "outputs": [
    {
     "data": {
      "text/html": [
       "<div>\n",
       "<style scoped>\n",
       "    .dataframe tbody tr th:only-of-type {\n",
       "        vertical-align: middle;\n",
       "    }\n",
       "\n",
       "    .dataframe tbody tr th {\n",
       "        vertical-align: top;\n",
       "    }\n",
       "\n",
       "    .dataframe thead th {\n",
       "        text-align: right;\n",
       "    }\n",
       "</style>\n",
       "<table border=\"1\" class=\"dataframe\">\n",
       "  <thead>\n",
       "    <tr style=\"text-align: right;\">\n",
       "      <th></th>\n",
       "      <th>CRIM</th>\n",
       "      <th>ZN</th>\n",
       "      <th>INDUS</th>\n",
       "      <th>CHAS</th>\n",
       "      <th>NX</th>\n",
       "      <th>RM</th>\n",
       "      <th>AGE</th>\n",
       "      <th>DIS</th>\n",
       "      <th>RAD</th>\n",
       "      <th>TAX</th>\n",
       "      <th>PTRATIO</th>\n",
       "      <th>B</th>\n",
       "      <th>LSTAT</th>\n",
       "    </tr>\n",
       "  </thead>\n",
       "  <tbody>\n",
       "    <tr>\n",
       "      <th>0</th>\n",
       "      <td>0.00632</td>\n",
       "      <td>18.0</td>\n",
       "      <td>2.31</td>\n",
       "      <td>0</td>\n",
       "      <td>0.538</td>\n",
       "      <td>6.575</td>\n",
       "      <td>65.2</td>\n",
       "      <td>4.0900</td>\n",
       "      <td>1</td>\n",
       "      <td>296.0</td>\n",
       "      <td>15.3</td>\n",
       "      <td>396.90</td>\n",
       "      <td>4.98</td>\n",
       "    </tr>\n",
       "    <tr>\n",
       "      <th>1</th>\n",
       "      <td>0.02731</td>\n",
       "      <td>0.0</td>\n",
       "      <td>7.07</td>\n",
       "      <td>0</td>\n",
       "      <td>0.469</td>\n",
       "      <td>6.421</td>\n",
       "      <td>78.9</td>\n",
       "      <td>4.9671</td>\n",
       "      <td>2</td>\n",
       "      <td>242.0</td>\n",
       "      <td>17.8</td>\n",
       "      <td>396.90</td>\n",
       "      <td>9.14</td>\n",
       "    </tr>\n",
       "    <tr>\n",
       "      <th>2</th>\n",
       "      <td>0.02729</td>\n",
       "      <td>0.0</td>\n",
       "      <td>7.07</td>\n",
       "      <td>0</td>\n",
       "      <td>0.469</td>\n",
       "      <td>7.185</td>\n",
       "      <td>61.1</td>\n",
       "      <td>4.9671</td>\n",
       "      <td>2</td>\n",
       "      <td>242.0</td>\n",
       "      <td>17.8</td>\n",
       "      <td>392.83</td>\n",
       "      <td>4.03</td>\n",
       "    </tr>\n",
       "    <tr>\n",
       "      <th>3</th>\n",
       "      <td>0.03237</td>\n",
       "      <td>0.0</td>\n",
       "      <td>2.18</td>\n",
       "      <td>0</td>\n",
       "      <td>0.458</td>\n",
       "      <td>6.998</td>\n",
       "      <td>45.8</td>\n",
       "      <td>6.0622</td>\n",
       "      <td>3</td>\n",
       "      <td>222.0</td>\n",
       "      <td>18.7</td>\n",
       "      <td>394.63</td>\n",
       "      <td>2.94</td>\n",
       "    </tr>\n",
       "    <tr>\n",
       "      <th>4</th>\n",
       "      <td>0.06905</td>\n",
       "      <td>0.0</td>\n",
       "      <td>2.18</td>\n",
       "      <td>0</td>\n",
       "      <td>0.458</td>\n",
       "      <td>7.147</td>\n",
       "      <td>54.2</td>\n",
       "      <td>6.0622</td>\n",
       "      <td>3</td>\n",
       "      <td>222.0</td>\n",
       "      <td>18.7</td>\n",
       "      <td>396.90</td>\n",
       "      <td>5.33</td>\n",
       "    </tr>\n",
       "    <tr>\n",
       "      <th>...</th>\n",
       "      <td>...</td>\n",
       "      <td>...</td>\n",
       "      <td>...</td>\n",
       "      <td>...</td>\n",
       "      <td>...</td>\n",
       "      <td>...</td>\n",
       "      <td>...</td>\n",
       "      <td>...</td>\n",
       "      <td>...</td>\n",
       "      <td>...</td>\n",
       "      <td>...</td>\n",
       "      <td>...</td>\n",
       "      <td>...</td>\n",
       "    </tr>\n",
       "    <tr>\n",
       "      <th>501</th>\n",
       "      <td>0.06263</td>\n",
       "      <td>0.0</td>\n",
       "      <td>11.93</td>\n",
       "      <td>0</td>\n",
       "      <td>0.573</td>\n",
       "      <td>6.593</td>\n",
       "      <td>69.1</td>\n",
       "      <td>2.4786</td>\n",
       "      <td>1</td>\n",
       "      <td>273.0</td>\n",
       "      <td>21.0</td>\n",
       "      <td>391.99</td>\n",
       "      <td>9.67</td>\n",
       "    </tr>\n",
       "    <tr>\n",
       "      <th>502</th>\n",
       "      <td>0.04527</td>\n",
       "      <td>0.0</td>\n",
       "      <td>11.93</td>\n",
       "      <td>0</td>\n",
       "      <td>0.573</td>\n",
       "      <td>6.120</td>\n",
       "      <td>76.7</td>\n",
       "      <td>2.2875</td>\n",
       "      <td>1</td>\n",
       "      <td>273.0</td>\n",
       "      <td>21.0</td>\n",
       "      <td>396.90</td>\n",
       "      <td>9.08</td>\n",
       "    </tr>\n",
       "    <tr>\n",
       "      <th>503</th>\n",
       "      <td>0.06076</td>\n",
       "      <td>0.0</td>\n",
       "      <td>11.93</td>\n",
       "      <td>0</td>\n",
       "      <td>0.573</td>\n",
       "      <td>6.976</td>\n",
       "      <td>91.0</td>\n",
       "      <td>2.1675</td>\n",
       "      <td>1</td>\n",
       "      <td>273.0</td>\n",
       "      <td>21.0</td>\n",
       "      <td>396.90</td>\n",
       "      <td>5.64</td>\n",
       "    </tr>\n",
       "    <tr>\n",
       "      <th>504</th>\n",
       "      <td>0.10959</td>\n",
       "      <td>0.0</td>\n",
       "      <td>11.93</td>\n",
       "      <td>0</td>\n",
       "      <td>0.573</td>\n",
       "      <td>6.794</td>\n",
       "      <td>89.3</td>\n",
       "      <td>2.3889</td>\n",
       "      <td>1</td>\n",
       "      <td>273.0</td>\n",
       "      <td>21.0</td>\n",
       "      <td>393.45</td>\n",
       "      <td>6.48</td>\n",
       "    </tr>\n",
       "    <tr>\n",
       "      <th>505</th>\n",
       "      <td>0.04741</td>\n",
       "      <td>0.0</td>\n",
       "      <td>11.93</td>\n",
       "      <td>0</td>\n",
       "      <td>0.573</td>\n",
       "      <td>6.030</td>\n",
       "      <td>80.8</td>\n",
       "      <td>2.5050</td>\n",
       "      <td>1</td>\n",
       "      <td>273.0</td>\n",
       "      <td>21.0</td>\n",
       "      <td>396.90</td>\n",
       "      <td>7.88</td>\n",
       "    </tr>\n",
       "  </tbody>\n",
       "</table>\n",
       "<p>506 rows × 13 columns</p>\n",
       "</div>"
      ],
      "text/plain": [
       "        CRIM    ZN  INDUS  CHAS     NX     RM   AGE     DIS  RAD    TAX  \\\n",
       "0    0.00632  18.0   2.31     0  0.538  6.575  65.2  4.0900    1  296.0   \n",
       "1    0.02731   0.0   7.07     0  0.469  6.421  78.9  4.9671    2  242.0   \n",
       "2    0.02729   0.0   7.07     0  0.469  7.185  61.1  4.9671    2  242.0   \n",
       "3    0.03237   0.0   2.18     0  0.458  6.998  45.8  6.0622    3  222.0   \n",
       "4    0.06905   0.0   2.18     0  0.458  7.147  54.2  6.0622    3  222.0   \n",
       "..       ...   ...    ...   ...    ...    ...   ...     ...  ...    ...   \n",
       "501  0.06263   0.0  11.93     0  0.573  6.593  69.1  2.4786    1  273.0   \n",
       "502  0.04527   0.0  11.93     0  0.573  6.120  76.7  2.2875    1  273.0   \n",
       "503  0.06076   0.0  11.93     0  0.573  6.976  91.0  2.1675    1  273.0   \n",
       "504  0.10959   0.0  11.93     0  0.573  6.794  89.3  2.3889    1  273.0   \n",
       "505  0.04741   0.0  11.93     0  0.573  6.030  80.8  2.5050    1  273.0   \n",
       "\n",
       "     PTRATIO       B  LSTAT  \n",
       "0       15.3  396.90   4.98  \n",
       "1       17.8  396.90   9.14  \n",
       "2       17.8  392.83   4.03  \n",
       "3       18.7  394.63   2.94  \n",
       "4       18.7  396.90   5.33  \n",
       "..       ...     ...    ...  \n",
       "501     21.0  391.99   9.67  \n",
       "502     21.0  396.90   9.08  \n",
       "503     21.0  396.90   5.64  \n",
       "504     21.0  393.45   6.48  \n",
       "505     21.0  396.90   7.88  \n",
       "\n",
       "[506 rows x 13 columns]"
      ]
     },
     "execution_count": 7,
     "metadata": {},
     "output_type": "execute_result"
    }
   ],
   "source": [
    "X"
   ]
  },
  {
   "cell_type": "markdown",
   "id": "4dbb2351-9195-4d34-80c8-363fd764ef76",
   "metadata": {},
   "source": [
    "### Step 4: Split the data into training and testing sets"
   ]
  },
  {
   "cell_type": "markdown",
   "id": "ca3c276e-4f9e-44da-bfa9-5e71a258c5e7",
   "metadata": {},
   "source": [
    "To assess the model's performance, it's crucial to split your data into a training set and a testing set. This helps you evaluate how well the model generalizes to unseen data:"
   ]
  },
  {
   "cell_type": "code",
   "execution_count": 8,
   "id": "648e5a68-dc4f-4056-8426-3a36a1a2f14c",
   "metadata": {},
   "outputs": [],
   "source": [
    "X_train, X_test, Y_train, Y_test = train_test_split(X, Y, test_size=0.2, random_state=42)"
   ]
  },
  {
   "cell_type": "markdown",
   "id": "bb971357-85c7-4a95-b97a-1d84f0395669",
   "metadata": {},
   "source": [
    "### Step 5: Create and fit the multiple linear regression model"
   ]
  },
  {
   "cell_type": "code",
   "execution_count": 9,
   "id": "d2e1eebb-3b3f-4f89-962d-06b010c59095",
   "metadata": {},
   "outputs": [
    {
     "data": {
      "text/html": [
       "<style>#sk-container-id-1 {color: black;}#sk-container-id-1 pre{padding: 0;}#sk-container-id-1 div.sk-toggleable {background-color: white;}#sk-container-id-1 label.sk-toggleable__label {cursor: pointer;display: block;width: 100%;margin-bottom: 0;padding: 0.3em;box-sizing: border-box;text-align: center;}#sk-container-id-1 label.sk-toggleable__label-arrow:before {content: \"▸\";float: left;margin-right: 0.25em;color: #696969;}#sk-container-id-1 label.sk-toggleable__label-arrow:hover:before {color: black;}#sk-container-id-1 div.sk-estimator:hover label.sk-toggleable__label-arrow:before {color: black;}#sk-container-id-1 div.sk-toggleable__content {max-height: 0;max-width: 0;overflow: hidden;text-align: left;background-color: #f0f8ff;}#sk-container-id-1 div.sk-toggleable__content pre {margin: 0.2em;color: black;border-radius: 0.25em;background-color: #f0f8ff;}#sk-container-id-1 input.sk-toggleable__control:checked~div.sk-toggleable__content {max-height: 200px;max-width: 100%;overflow: auto;}#sk-container-id-1 input.sk-toggleable__control:checked~label.sk-toggleable__label-arrow:before {content: \"▾\";}#sk-container-id-1 div.sk-estimator input.sk-toggleable__control:checked~label.sk-toggleable__label {background-color: #d4ebff;}#sk-container-id-1 div.sk-label input.sk-toggleable__control:checked~label.sk-toggleable__label {background-color: #d4ebff;}#sk-container-id-1 input.sk-hidden--visually {border: 0;clip: rect(1px 1px 1px 1px);clip: rect(1px, 1px, 1px, 1px);height: 1px;margin: -1px;overflow: hidden;padding: 0;position: absolute;width: 1px;}#sk-container-id-1 div.sk-estimator {font-family: monospace;background-color: #f0f8ff;border: 1px dotted black;border-radius: 0.25em;box-sizing: border-box;margin-bottom: 0.5em;}#sk-container-id-1 div.sk-estimator:hover {background-color: #d4ebff;}#sk-container-id-1 div.sk-parallel-item::after {content: \"\";width: 100%;border-bottom: 1px solid gray;flex-grow: 1;}#sk-container-id-1 div.sk-label:hover label.sk-toggleable__label {background-color: #d4ebff;}#sk-container-id-1 div.sk-serial::before {content: \"\";position: absolute;border-left: 1px solid gray;box-sizing: border-box;top: 0;bottom: 0;left: 50%;z-index: 0;}#sk-container-id-1 div.sk-serial {display: flex;flex-direction: column;align-items: center;background-color: white;padding-right: 0.2em;padding-left: 0.2em;position: relative;}#sk-container-id-1 div.sk-item {position: relative;z-index: 1;}#sk-container-id-1 div.sk-parallel {display: flex;align-items: stretch;justify-content: center;background-color: white;position: relative;}#sk-container-id-1 div.sk-item::before, #sk-container-id-1 div.sk-parallel-item::before {content: \"\";position: absolute;border-left: 1px solid gray;box-sizing: border-box;top: 0;bottom: 0;left: 50%;z-index: -1;}#sk-container-id-1 div.sk-parallel-item {display: flex;flex-direction: column;z-index: 1;position: relative;background-color: white;}#sk-container-id-1 div.sk-parallel-item:first-child::after {align-self: flex-end;width: 50%;}#sk-container-id-1 div.sk-parallel-item:last-child::after {align-self: flex-start;width: 50%;}#sk-container-id-1 div.sk-parallel-item:only-child::after {width: 0;}#sk-container-id-1 div.sk-dashed-wrapped {border: 1px dashed gray;margin: 0 0.4em 0.5em 0.4em;box-sizing: border-box;padding-bottom: 0.4em;background-color: white;}#sk-container-id-1 div.sk-label label {font-family: monospace;font-weight: bold;display: inline-block;line-height: 1.2em;}#sk-container-id-1 div.sk-label-container {text-align: center;}#sk-container-id-1 div.sk-container {/* jupyter's `normalize.less` sets `[hidden] { display: none; }` but bootstrap.min.css set `[hidden] { display: none !important; }` so we also need the `!important` here to be able to override the default hidden behavior on the sphinx rendered scikit-learn.org. See: https://github.com/scikit-learn/scikit-learn/issues/21755 */display: inline-block !important;position: relative;}#sk-container-id-1 div.sk-text-repr-fallback {display: none;}</style><div id=\"sk-container-id-1\" class=\"sk-top-container\"><div class=\"sk-text-repr-fallback\"><pre>LinearRegression()</pre><b>In a Jupyter environment, please rerun this cell to show the HTML representation or trust the notebook. <br />On GitHub, the HTML representation is unable to render, please try loading this page with nbviewer.org.</b></div><div class=\"sk-container\" hidden><div class=\"sk-item\"><div class=\"sk-estimator sk-toggleable\"><input class=\"sk-toggleable__control sk-hidden--visually\" id=\"sk-estimator-id-1\" type=\"checkbox\" checked><label for=\"sk-estimator-id-1\" class=\"sk-toggleable__label sk-toggleable__label-arrow\">LinearRegression</label><div class=\"sk-toggleable__content\"><pre>LinearRegression()</pre></div></div></div></div></div>"
      ],
      "text/plain": [
       "LinearRegression()"
      ]
     },
     "execution_count": 9,
     "metadata": {},
     "output_type": "execute_result"
    }
   ],
   "source": [
    "# Create a linear regression model\n",
    "model = LinearRegression()\n",
    "\n",
    "# Fit the model to the training data\n",
    "model.fit(X_train, Y_train)"
   ]
  },
  {
   "cell_type": "markdown",
   "id": "3c47ff12-b73f-4395-8c07-3acf75555694",
   "metadata": {},
   "source": [
    "The model now has calculated the optimal values for the coefficients (β0, β1, β2, ...) using Least-Squares Estimation."
   ]
  },
  {
   "cell_type": "markdown",
   "id": "716c157b-0c19-4674-aeb2-430cb9dceae8",
   "metadata": {},
   "source": [
    "### Step 6: Make predictions"
   ]
  },
  {
   "cell_type": "markdown",
   "id": "b5ac3f07-1b0e-4dd4-8869-249e230443a9",
   "metadata": {},
   "source": [
    "You can use your trained model to make predictions on the test data:"
   ]
  },
  {
   "cell_type": "code",
   "execution_count": 10,
   "id": "eca256e7-e74c-4fe3-9f61-7666c2069fe0",
   "metadata": {},
   "outputs": [],
   "source": [
    "Y_pred = model.predict(X_test)"
   ]
  },
  {
   "cell_type": "markdown",
   "id": "9ac43734-1351-4ec9-8dee-b91f50ea2ec6",
   "metadata": {},
   "source": [
    "### Step 7: Evaluate the model"
   ]
  },
  {
   "cell_type": "markdown",
   "id": "b76ddd5d-bdf5-403e-afeb-f2eb149a62fc",
   "metadata": {},
   "source": [
    "You can evaluate the model's performance using various metrics such as Mean Squared Error (MSE), Root Mean Squared Error (RMSE), and R-squared (R²):"
   ]
  },
  {
   "cell_type": "code",
   "execution_count": 11,
   "id": "73517423-def3-4977-9b7c-789369ad3f53",
   "metadata": {},
   "outputs": [
    {
     "name": "stdout",
     "output_type": "stream",
     "text": [
      "Mean Squared Error (MSE): 24.29\n",
      "Root Mean Squared Error (RMSE): 4.93\n",
      "R-squared (R²): 0.67\n"
     ]
    }
   ],
   "source": [
    "mse = mean_squared_error(Y_test, Y_pred)\n",
    "rmse = np.sqrt(mse)\n",
    "r2 = r2_score(Y_test, Y_pred)\n",
    "\n",
    "print(f'Mean Squared Error (MSE): {mse:.2f}')\n",
    "print(f'Root Mean Squared Error (RMSE): {rmse:.2f}')\n",
    "print(f'R-squared (R²): {r2:.2f}')"
   ]
  },
  {
   "cell_type": "markdown",
   "id": "5a70c5b4-21a7-43a8-aa3c-303e188dddd3",
   "metadata": {},
   "source": [
    "These metrics help you assess how well the multiple linear regression model fits the data and makes predictions."
   ]
  },
  {
   "cell_type": "markdown",
   "id": "d103469c-93a7-4775-a54d-8728997d387f",
   "metadata": {},
   "source": [
    "### Step 8: Interpret the Results"
   ]
  },
  {
   "cell_type": "markdown",
   "id": "28580fed-6500-44b4-9702-072eec052117",
   "metadata": {},
   "source": [
    "Interpreting a multiple linear regression model involves understanding the relationships between the independent variables (features) and the dependent variable (target) as well as the coefficients (β0, β1, β2, ...) of the model. Here's a general guideline on how to interpret the model:"
   ]
  },
  {
   "cell_type": "markdown",
   "id": "81123b6b-9004-49f0-96dc-c3f1f8aaae2b",
   "metadata": {},
   "source": [
    "**Intercept (β0)**: The intercept represents the estimated mean value of the dependent variable when all independent variables are set to zero. In many cases, setting all variables to zero may not be meaningful. If it is, the intercept provides a baseline value for the dependent variable."
   ]
  },
  {
   "cell_type": "markdown",
   "id": "9dd8e4be-1030-468a-af36-b719b473daf5",
   "metadata": {},
   "source": [
    "**Coefficients (β1, β2, ...)**: Each coefficient represents the change in the dependent variable associated with a one-unit change in the corresponding independent variable, while holding all other variables constant. Here's how to interpret them:  \n",
    "A positive coefficient (e.g., β1) indicates that an increase in the corresponding independent variable leads to an increase in the dependent variable.  \n",
    "A negative coefficient indicates that an increase in the corresponding independent variable leads to a decrease in the dependent variable.  \n",
    "The magnitude of the coefficient represents the strength of the relationship. Larger coefficients imply a stronger effect on the dependent variable.  "
   ]
  },
  {
   "cell_type": "markdown",
   "id": "3bb2e548-90de-410e-9746-0164eed7c8cd",
   "metadata": {},
   "source": [
    "**R-squared (R²)**: R-squared measures the proportion of the variance in the dependent variable that is explained by the independent variables in the model. It ranges from 0 to 1, with higher values indicating a better fit. For example, an R² value of 0.80 means that 80% of the variation in the dependent variable is explained by the model, while the remaining 20% is unexplained."
   ]
  },
  {
   "cell_type": "markdown",
   "id": "48537790-ba4c-41c6-8d8a-4a4322c94b6c",
   "metadata": {},
   "source": [
    "**Mean Squared Error (MSE) and Root Mean Squared Error (RMSE)**: These metrics quantify the average squared error between the actual and predicted values. Lower MSE and RMSE values indicate better model performance."
   ]
  },
  {
   "cell_type": "markdown",
   "id": "e49fd487-475f-4004-aa08-d5d0f3a9a33b",
   "metadata": {},
   "source": [
    "To interpret the coefficients, you can print them along with their corresponding feature names:  \r\n"
   ]
  },
  {
   "cell_type": "code",
   "execution_count": 12,
   "id": "74012ccf-7d1a-405a-bfb3-336ae23fa869",
   "metadata": {},
   "outputs": [
    {
     "name": "stdout",
     "output_type": "stream",
     "text": [
      "    Feature  Coefficient\n",
      "0      CRIM    -0.113056\n",
      "1        ZN     0.030110\n",
      "2     INDUS     0.040381\n",
      "3      CHAS     2.784438\n",
      "4        NX   -17.202633\n",
      "5        RM     4.438835\n",
      "6       AGE    -0.006296\n",
      "7       DIS    -1.447865\n",
      "8       RAD     0.262430\n",
      "9       TAX    -0.010647\n",
      "10  PTRATIO    -0.915456\n",
      "11        B     0.012351\n",
      "12    LSTAT    -0.508571\n"
     ]
    }
   ],
   "source": [
    "coefficients = pd.DataFrame({'Feature': X.columns, 'Coefficient': model.coef_})  \n",
    "print(coefficients)  "
   ]
  },
  {
   "cell_type": "markdown",
   "id": "b850d206-cb2a-40a5-8802-bb770482a716",
   "metadata": {},
   "source": [
    "**Significance of Coefficients**: It's essential to assess the statistical significance of each coefficient. You can do this by examining the p-values associated with each coefficient. A low p-value (typically below 0.05) suggests that the corresponding variable is statistically significant in explaining the variation in the dependent variable."
   ]
  },
  {
   "cell_type": "markdown",
   "id": "32f8829f-60d0-42a5-b466-dcd4f5016836",
   "metadata": {},
   "source": [
    "To examine the p-values for each variable in a multiple linear regression model, you'll need to use statistical libraries such as statsmodels in Python. statsmodels provides a more detailed statistical summary of the regression model, including p-values for each coefficient. Here's how you can do it:"
   ]
  },
  {
   "cell_type": "markdown",
   "id": "da6c780d-98c6-4ece-afa6-874df4da6550",
   "metadata": {},
   "source": [
    "**Step 1:** Install and import the statsmodels library"
   ]
  },
  {
   "cell_type": "code",
   "execution_count": 13,
   "id": "d6a60202-557c-4888-8fec-8cdba43a34f3",
   "metadata": {},
   "outputs": [
    {
     "name": "stdout",
     "output_type": "stream",
     "text": [
      "Requirement already satisfied: statsmodels in c:\\users\\nick8\\appdata\\local\\packages\\pythonsoftwarefoundation.python.3.10_qbz5n2kfra8p0\\localcache\\local-packages\\python310\\site-packages (0.14.1)\n",
      "Requirement already satisfied: numpy<2,>=1.18 in c:\\users\\nick8\\appdata\\local\\packages\\pythonsoftwarefoundation.python.3.10_qbz5n2kfra8p0\\localcache\\local-packages\\python310\\site-packages (from statsmodels) (1.26.3)\n",
      "Requirement already satisfied: scipy!=1.9.2,>=1.4 in c:\\users\\nick8\\appdata\\local\\packages\\pythonsoftwarefoundation.python.3.10_qbz5n2kfra8p0\\localcache\\local-packages\\python310\\site-packages (from statsmodels) (1.11.4)\n",
      "Requirement already satisfied: pandas!=2.1.0,>=1.0 in c:\\users\\nick8\\appdata\\local\\packages\\pythonsoftwarefoundation.python.3.10_qbz5n2kfra8p0\\localcache\\local-packages\\python310\\site-packages (from statsmodels) (2.1.4)\n",
      "Requirement already satisfied: patsy>=0.5.4 in c:\\users\\nick8\\appdata\\local\\packages\\pythonsoftwarefoundation.python.3.10_qbz5n2kfra8p0\\localcache\\local-packages\\python310\\site-packages (from statsmodels) (0.5.6)\n",
      "Requirement already satisfied: packaging>=21.3 in c:\\users\\nick8\\appdata\\local\\packages\\pythonsoftwarefoundation.python.3.10_qbz5n2kfra8p0\\localcache\\local-packages\\python310\\site-packages (from statsmodels) (23.2)\n",
      "Requirement already satisfied: python-dateutil>=2.8.2 in c:\\users\\nick8\\appdata\\local\\packages\\pythonsoftwarefoundation.python.3.10_qbz5n2kfra8p0\\localcache\\local-packages\\python310\\site-packages (from pandas!=2.1.0,>=1.0->statsmodels) (2.8.2)\n",
      "Requirement already satisfied: pytz>=2020.1 in c:\\users\\nick8\\appdata\\local\\packages\\pythonsoftwarefoundation.python.3.10_qbz5n2kfra8p0\\localcache\\local-packages\\python310\\site-packages (from pandas!=2.1.0,>=1.0->statsmodels) (2023.3.post1)\n",
      "Requirement already satisfied: tzdata>=2022.1 in c:\\users\\nick8\\appdata\\local\\packages\\pythonsoftwarefoundation.python.3.10_qbz5n2kfra8p0\\localcache\\local-packages\\python310\\site-packages (from pandas!=2.1.0,>=1.0->statsmodels) (2023.4)\n",
      "Requirement already satisfied: six in c:\\users\\nick8\\appdata\\local\\packages\\pythonsoftwarefoundation.python.3.10_qbz5n2kfra8p0\\localcache\\local-packages\\python310\\site-packages (from patsy>=0.5.4->statsmodels) (1.16.0)\n"
     ]
    }
   ],
   "source": [
    "!pip install statsmodels"
   ]
  },
  {
   "cell_type": "markdown",
   "id": "4926eb85-d851-4a31-9583-b0e4ab72d4b3",
   "metadata": {},
   "source": [
    "Then, import the library:"
   ]
  },
  {
   "cell_type": "code",
   "execution_count": 14,
   "id": "6e460e2f-bf55-4470-8ce9-ab8852cdcc79",
   "metadata": {},
   "outputs": [],
   "source": [
    "import statsmodels.api as sm"
   ]
  },
  {
   "cell_type": "markdown",
   "id": "5c8fb0ed-1c4d-47b9-96c7-69cd6a525298",
   "metadata": {},
   "source": [
    "**Step 2:** Fit the multiple linear regression model using statsmodels"
   ]
  },
  {
   "cell_type": "code",
   "execution_count": 15,
   "id": "d4235543-feda-4665-a7a0-9ccc5ed7e83e",
   "metadata": {},
   "outputs": [],
   "source": [
    "# Add a constant term to the independent variables matrix for the intercept\n",
    "X = sm.add_constant(X)\n",
    "\n",
    "# Fit the multiple linear regression model\n",
    "model = sm.OLS(Y, X).fit()"
   ]
  },
  {
   "cell_type": "markdown",
   "id": "7fbc0ecd-5002-4fef-9ab4-3c7b18beb17a",
   "metadata": {},
   "source": [
    "**Step 3:** Examine the summary statistics"
   ]
  },
  {
   "cell_type": "markdown",
   "id": "bfbfe090-d674-414c-8422-c5aedef1cd75",
   "metadata": {},
   "source": [
    "After fitting the model, you can examine the summary statistics, which include p-values for each variable:"
   ]
  },
  {
   "cell_type": "code",
   "execution_count": 16,
   "id": "64ec86ed-01a3-4d77-8c51-57321b848f3d",
   "metadata": {},
   "outputs": [
    {
     "name": "stdout",
     "output_type": "stream",
     "text": [
      "                            OLS Regression Results                            \n",
      "==============================================================================\n",
      "Dep. Variable:                   MEDV   R-squared:                       0.741\n",
      "Model:                            OLS   Adj. R-squared:                  0.734\n",
      "Method:                 Least Squares   F-statistic:                     108.1\n",
      "Date:                Sun, 28 Jan 2024   Prob (F-statistic):          6.72e-135\n",
      "Time:                        20:08:22   Log-Likelihood:                -1498.8\n",
      "No. Observations:                 506   AIC:                             3026.\n",
      "Df Residuals:                     492   BIC:                             3085.\n",
      "Df Model:                          13                                         \n",
      "Covariance Type:            nonrobust                                         \n",
      "==============================================================================\n",
      "                 coef    std err          t      P>|t|      [0.025      0.975]\n",
      "------------------------------------------------------------------------------\n",
      "const         36.4595      5.103      7.144      0.000      26.432      46.487\n",
      "CRIM          -0.1080      0.033     -3.287      0.001      -0.173      -0.043\n",
      "ZN             0.0464      0.014      3.382      0.001       0.019       0.073\n",
      "INDUS          0.0206      0.061      0.334      0.738      -0.100       0.141\n",
      "CHAS           2.6867      0.862      3.118      0.002       0.994       4.380\n",
      "NX           -17.7666      3.820     -4.651      0.000     -25.272     -10.262\n",
      "RM             3.8099      0.418      9.116      0.000       2.989       4.631\n",
      "AGE            0.0007      0.013      0.052      0.958      -0.025       0.027\n",
      "DIS           -1.4756      0.199     -7.398      0.000      -1.867      -1.084\n",
      "RAD            0.3060      0.066      4.613      0.000       0.176       0.436\n",
      "TAX           -0.0123      0.004     -3.280      0.001      -0.020      -0.005\n",
      "PTRATIO       -0.9527      0.131     -7.283      0.000      -1.210      -0.696\n",
      "B              0.0093      0.003      3.467      0.001       0.004       0.015\n",
      "LSTAT         -0.5248      0.051    -10.347      0.000      -0.624      -0.425\n",
      "==============================================================================\n",
      "Omnibus:                      178.041   Durbin-Watson:                   1.078\n",
      "Prob(Omnibus):                  0.000   Jarque-Bera (JB):              783.126\n",
      "Skew:                           1.521   Prob(JB):                    8.84e-171\n",
      "Kurtosis:                       8.281   Cond. No.                     1.51e+04\n",
      "==============================================================================\n",
      "\n",
      "Notes:\n",
      "[1] Standard Errors assume that the covariance matrix of the errors is correctly specified.\n",
      "[2] The condition number is large, 1.51e+04. This might indicate that there are\n",
      "strong multicollinearity or other numerical problems.\n"
     ]
    }
   ],
   "source": [
    "summary = model.summary()\n",
    "print(summary)"
   ]
  },
  {
   "cell_type": "markdown",
   "id": "ce529557-bfbb-43d9-9127-dd085c6b45df",
   "metadata": {},
   "source": [
    "The summary will provide a detailed statistical summary of the regression model, including p-values for each coefficient. Look for the \"P>|t|\" column in the summary table, which represents the p-value for each variable. Typically, you want to check whether these p-values are below a significance level (e.g., 0.05) to determine the statistical significance of each variable.  \n",
    "If the p-value for a variable is less than your chosen significance level (e.g., 0.05), you can consider that variable statistically significant in explaining the variation in the dependent variable.\n",
    "\r\n",
    "If the p-value is greater than the significance level, you may consider that variable not statistically significan  t."
   ]
  },
  {
   "cell_type": "markdown",
   "id": "7d20fe46-e6ab-4393-9200-27e2c3375d0b",
   "metadata": {},
   "source": [
    "Below is a detailed interpretation of the model:"
   ]
  },
  {
   "cell_type": "markdown",
   "id": "ce7b5b85-cae7-4774-9f09-0376fc35767c",
   "metadata": {},
   "source": [
    "**R-squared (R²):** R-squared measures the proportion of the variance in the dependent variable (MEDV) that is explained by the independent variables in the model. In this case, R-squared is 0.741, which means that approximately 74.1% of the variation in MEDV is explained by the independent variables included in the model.\n",
    "\n",
    "**Adjusted R-squared (Adj. R²):** Adjusted R-squared takes into account the number of predictors in the model and provides a more accurate measure of model fit. An Adj. R² of 0.734 indicates a good fit, considering the complexity of the model.\n",
    "\n",
    "**F-statistic:** The F-statistic is used to test whether the overall regression model is statistically significant. A high F-statistic (in this case, 108.1) suggests that the model as a whole is statistically significant in predicting MEDV.\n",
    "\n",
    "**Prob (F-statistic):** This p-value associated with the F-statistic is very close to zero (6.72e-135), indicating that the model is highly significant.\n",
    "\n",
    "**Coefficients (coef):** These coefficients represent the estimated changes in MEDV associated with a one-unit change in each of the independent variables while holding all other variables constant.\n",
    "\n",
    "For example, the coefficient for CRIM is -0.1080, meaning that for every one-unit increase in the CRIM variable, the MEDV is expected to decrease by approximately 0.1080 units.\n",
    "The constant (intercept) has a coefficient of 36.4595, which represents the estimated MEDV when all independent variables are zero.\n",
    "P-values (P>|t|): These p-values assess the statistical significance of each coefficient. A low p-value (typically below 0.05) suggests that the corresponding variable is statistically significant in explaining the variation in MEDV.\n",
    "\n",
    "For instance, variables such as CRIM, ZN, CHAS, NX, RM, DIS, RAD, TAX, PTRATIO, B, and LSTAT have low p-values (close to zero), indicating their statistical significance.\n",
    "On the other hand, the INDUS and AGE variables have higher p-values, suggesting that they may not be statistically significant predictors of MEDV."
   ]
  },
  {
   "cell_type": "code",
   "execution_count": null,
   "id": "775f308f-a183-4c90-a59e-f532f9165d6d",
   "metadata": {},
   "outputs": [],
   "source": []
  }
 ],
 "metadata": {
  "kernelspec": {
   "display_name": "Python 3 (ipykernel)",
   "language": "python",
   "name": "python3"
  },
  "language_info": {
   "codemirror_mode": {
    "name": "ipython",
    "version": 3
   },
   "file_extension": ".py",
   "mimetype": "text/x-python",
   "name": "python",
   "nbconvert_exporter": "python",
   "pygments_lexer": "ipython3",
   "version": "3.10.11"
  }
 },
 "nbformat": 4,
 "nbformat_minor": 5
}
