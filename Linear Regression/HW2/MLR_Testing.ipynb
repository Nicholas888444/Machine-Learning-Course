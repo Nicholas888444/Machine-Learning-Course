{
 "cells": [
  {
   "cell_type": "markdown",
   "id": "69d1cc3f-1339-40b9-910c-3f4b14139964",
   "metadata": {},
   "source": [
    "# Multiple Linear Regression\n",
    "## Homework 2\n",
    "## Nicholas Thomson"
   ]
  },
  {
   "cell_type": "markdown",
   "id": "068abf93-2207-4683-b552-b6f71e8d3301",
   "metadata": {},
   "source": [
    "### Import libraries"
   ]
  },
  {
   "cell_type": "code",
   "execution_count": 1,
   "id": "e3cfad16-8c8d-4b42-a7e3-40b0296759ea",
   "metadata": {},
   "outputs": [],
   "source": [
    "import numpy as np\n",
    "import pandas as pd\n",
    "from sklearn.linear_model import LinearRegression\n",
    "from sklearn.metrics import mean_squared_error, r2_score\n",
    "from sklearn.model_selection import train_test_split"
   ]
  },
  {
   "cell_type": "markdown",
   "id": "ba69e641-42f9-418f-b6e2-ca823a61b393",
   "metadata": {},
   "source": [
    "### 1. Download the dataset\n",
    "The dataset was downloaded from https://www.kaggle.com/datasets/petermushemi/dataset-for-predicting-the-college-gpa-of-students?select=Gpa.csv\n",
    "\n",
    "I intend to investigate the relationship between various factors and college GPA"
   ]
  },
  {
   "cell_type": "code",
   "execution_count": 2,
   "id": "fe36ceeb-ba1b-49da-87f5-bee6f1e19147",
   "metadata": {},
   "outputs": [
    {
     "data": {
      "text/html": [
       "<div>\n",
       "<style scoped>\n",
       "    .dataframe tbody tr th:only-of-type {\n",
       "        vertical-align: middle;\n",
       "    }\n",
       "\n",
       "    .dataframe tbody tr th {\n",
       "        vertical-align: top;\n",
       "    }\n",
       "\n",
       "    .dataframe thead th {\n",
       "        text-align: right;\n",
       "    }\n",
       "</style>\n",
       "<table border=\"1\" class=\"dataframe\">\n",
       "  <thead>\n",
       "    <tr style=\"text-align: right;\">\n",
       "      <th></th>\n",
       "      <th>Study Hours per Week</th>\n",
       "      <th>Attendance Rate</th>\n",
       "      <th>Major</th>\n",
       "      <th>High School GPA</th>\n",
       "      <th>Extracurricular Activities</th>\n",
       "      <th>Part-Time Job</th>\n",
       "      <th>Library Usage per Week</th>\n",
       "      <th>Online Coursework Engagement</th>\n",
       "      <th>Sleep Hours per Night</th>\n",
       "      <th>College GPA</th>\n",
       "    </tr>\n",
       "  </thead>\n",
       "  <tbody>\n",
       "    <tr>\n",
       "      <th>0</th>\n",
       "      <td>21.95</td>\n",
       "      <td>79.64</td>\n",
       "      <td>Business</td>\n",
       "      <td>2.83</td>\n",
       "      <td>4</td>\n",
       "      <td>No</td>\n",
       "      <td>16.87</td>\n",
       "      <td>11.22</td>\n",
       "      <td>5.64</td>\n",
       "      <td>2.80</td>\n",
       "    </tr>\n",
       "    <tr>\n",
       "      <th>1</th>\n",
       "      <td>28.61</td>\n",
       "      <td>50.50</td>\n",
       "      <td>Business</td>\n",
       "      <td>3.26</td>\n",
       "      <td>1</td>\n",
       "      <td>No</td>\n",
       "      <td>6.53</td>\n",
       "      <td>7.79</td>\n",
       "      <td>5.78</td>\n",
       "      <td>2.55</td>\n",
       "    </tr>\n",
       "    <tr>\n",
       "      <th>2</th>\n",
       "      <td>24.11</td>\n",
       "      <td>73.79</td>\n",
       "      <td>NaN</td>\n",
       "      <td>3.56</td>\n",
       "      <td>3</td>\n",
       "      <td>No</td>\n",
       "      <td>17.04</td>\n",
       "      <td>8.09</td>\n",
       "      <td>7.10</td>\n",
       "      <td>2.77</td>\n",
       "    </tr>\n",
       "    <tr>\n",
       "      <th>3</th>\n",
       "      <td>21.80</td>\n",
       "      <td>85.44</td>\n",
       "      <td>Business</td>\n",
       "      <td>3.70</td>\n",
       "      <td>4</td>\n",
       "      <td>Yes</td>\n",
       "      <td>17.77</td>\n",
       "      <td>14.27</td>\n",
       "      <td>9.97</td>\n",
       "      <td>3.28</td>\n",
       "    </tr>\n",
       "    <tr>\n",
       "      <th>4</th>\n",
       "      <td>16.95</td>\n",
       "      <td>52.20</td>\n",
       "      <td>Arts</td>\n",
       "      <td>3.63</td>\n",
       "      <td>4</td>\n",
       "      <td>No</td>\n",
       "      <td>5.33</td>\n",
       "      <td>11.08</td>\n",
       "      <td>6.94</td>\n",
       "      <td>2.59</td>\n",
       "    </tr>\n",
       "  </tbody>\n",
       "</table>\n",
       "</div>"
      ],
      "text/plain": [
       "   Study Hours per Week  Attendance Rate     Major  High School GPA  \\\n",
       "0                 21.95            79.64  Business             2.83   \n",
       "1                 28.61            50.50  Business             3.26   \n",
       "2                 24.11            73.79       NaN             3.56   \n",
       "3                 21.80            85.44  Business             3.70   \n",
       "4                 16.95            52.20      Arts             3.63   \n",
       "\n",
       "   Extracurricular Activities Part-Time Job  Library Usage per Week  \\\n",
       "0                           4            No                   16.87   \n",
       "1                           1            No                    6.53   \n",
       "2                           3            No                   17.04   \n",
       "3                           4           Yes                   17.77   \n",
       "4                           4            No                    5.33   \n",
       "\n",
       "   Online Coursework Engagement  Sleep Hours per Night  College GPA  \n",
       "0                         11.22                   5.64         2.80  \n",
       "1                          7.79                   5.78         2.55  \n",
       "2                          8.09                   7.10         2.77  \n",
       "3                         14.27                   9.97         3.28  \n",
       "4                         11.08                   6.94         2.59  "
      ]
     },
     "execution_count": 2,
     "metadata": {},
     "output_type": "execute_result"
    }
   ],
   "source": [
    "#Get data set\n",
    "df = pd.read_csv('Academic.csv')\n",
    "\n",
    "df.head()"
   ]
  },
  {
   "cell_type": "markdown",
   "id": "04e39359-9dec-45a4-8bd1-a5203de4c1ae",
   "metadata": {},
   "source": [
    "Data included in this data set include:\n",
    "Study Hours per Week, Attendance Rate, Major, High School GPA, Extracurricular Activities, and more."
   ]
  },
  {
   "cell_type": "code",
   "execution_count": 3,
   "id": "9ebe7d66-0091-4afd-9282-9d4b12459570",
   "metadata": {},
   "outputs": [
    {
     "name": "stdout",
     "output_type": "stream",
     "text": [
      "<class 'pandas.core.frame.DataFrame'>\n",
      "RangeIndex: 2000 entries, 0 to 1999\n",
      "Data columns (total 10 columns):\n",
      " #   Column                        Non-Null Count  Dtype  \n",
      "---  ------                        --------------  -----  \n",
      " 0   Study Hours per Week          2000 non-null   float64\n",
      " 1   Attendance Rate               1803 non-null   float64\n",
      " 2   Major                         1941 non-null   object \n",
      " 3   High School GPA               2000 non-null   float64\n",
      " 4   Extracurricular Activities    2000 non-null   int64  \n",
      " 5   Part-Time Job                 2000 non-null   object \n",
      " 6   Library Usage per Week        2000 non-null   float64\n",
      " 7   Online Coursework Engagement  1978 non-null   float64\n",
      " 8   Sleep Hours per Night         1841 non-null   float64\n",
      " 9   College GPA                   2000 non-null   float64\n",
      "dtypes: float64(7), int64(1), object(2)\n",
      "memory usage: 156.4+ KB\n"
     ]
    }
   ],
   "source": [
    "df.info()"
   ]
  },
  {
   "cell_type": "markdown",
   "id": "6c76923d-ad4f-4c2c-9223-adf9eb22505a",
   "metadata": {},
   "source": [
    "# 2. Data Preprocessing\n",
    "\n",
    "The data contains dummy variables which are College major and whether the student has a part time job. I will convert these variables to dummies."
   ]
  },
  {
   "cell_type": "code",
   "execution_count": 4,
   "id": "f08e2ce2-f710-44c3-ac6f-06a8e81c7cbd",
   "metadata": {},
   "outputs": [
    {
     "name": "stdout",
     "output_type": "stream",
     "text": [
      "<class 'pandas.core.frame.DataFrame'>\n",
      "RangeIndex: 2000 entries, 0 to 1999\n",
      "Data columns (total 14 columns):\n",
      " #   Column                        Non-Null Count  Dtype  \n",
      "---  ------                        --------------  -----  \n",
      " 0   Study Hours per Week          2000 non-null   float64\n",
      " 1   Attendance Rate               1803 non-null   float64\n",
      " 2   High School GPA               2000 non-null   float64\n",
      " 3   Extracurricular Activities    2000 non-null   int64  \n",
      " 4   Library Usage per Week        2000 non-null   float64\n",
      " 5   Online Coursework Engagement  1978 non-null   float64\n",
      " 6   Sleep Hours per Night         1841 non-null   float64\n",
      " 7   College GPA                   2000 non-null   float64\n",
      " 8   Major_Arts                    2000 non-null   float64\n",
      " 9   Major_Business                2000 non-null   float64\n",
      " 10  Major_Engineering             2000 non-null   float64\n",
      " 11  Major_Science                 2000 non-null   float64\n",
      " 12  Part-Time Job_No              2000 non-null   float64\n",
      " 13  Part-Time Job_Yes             2000 non-null   float64\n",
      "dtypes: float64(13), int64(1)\n",
      "memory usage: 218.9 KB\n"
     ]
    }
   ],
   "source": [
    "df_dummies = pd.get_dummies(df, dtype=float)\n",
    "df_dummies.info()"
   ]
  },
  {
   "cell_type": "markdown",
   "id": "7074762f-1306-46f7-a3b6-f09e11b18168",
   "metadata": {},
   "source": [
    "There is no need to have two dummy variables for part time job, so I will remove one of them. Also remove all nan data"
   ]
  },
  {
   "cell_type": "code",
   "execution_count": 5,
   "id": "7d0502f7-bcf8-4d08-bd38-95e92da52850",
   "metadata": {},
   "outputs": [
    {
     "data": {
      "text/html": [
       "<div>\n",
       "<style scoped>\n",
       "    .dataframe tbody tr th:only-of-type {\n",
       "        vertical-align: middle;\n",
       "    }\n",
       "\n",
       "    .dataframe tbody tr th {\n",
       "        vertical-align: top;\n",
       "    }\n",
       "\n",
       "    .dataframe thead th {\n",
       "        text-align: right;\n",
       "    }\n",
       "</style>\n",
       "<table border=\"1\" class=\"dataframe\">\n",
       "  <thead>\n",
       "    <tr style=\"text-align: right;\">\n",
       "      <th></th>\n",
       "      <th>Study Hours per Week</th>\n",
       "      <th>Attendance Rate</th>\n",
       "      <th>High School GPA</th>\n",
       "      <th>Extracurricular Activities</th>\n",
       "      <th>Library Usage per Week</th>\n",
       "      <th>Online Coursework Engagement</th>\n",
       "      <th>Sleep Hours per Night</th>\n",
       "      <th>College GPA</th>\n",
       "      <th>Major_Arts</th>\n",
       "      <th>Major_Business</th>\n",
       "      <th>Major_Engineering</th>\n",
       "      <th>Major_Science</th>\n",
       "      <th>Part-Time Job_Yes</th>\n",
       "    </tr>\n",
       "  </thead>\n",
       "  <tbody>\n",
       "    <tr>\n",
       "      <th>0</th>\n",
       "      <td>21.95</td>\n",
       "      <td>79.64</td>\n",
       "      <td>2.83</td>\n",
       "      <td>4</td>\n",
       "      <td>16.87</td>\n",
       "      <td>11.22</td>\n",
       "      <td>5.64</td>\n",
       "      <td>2.80</td>\n",
       "      <td>0.0</td>\n",
       "      <td>1.0</td>\n",
       "      <td>0.0</td>\n",
       "      <td>0.0</td>\n",
       "      <td>0.0</td>\n",
       "    </tr>\n",
       "    <tr>\n",
       "      <th>1</th>\n",
       "      <td>28.61</td>\n",
       "      <td>50.50</td>\n",
       "      <td>3.26</td>\n",
       "      <td>1</td>\n",
       "      <td>6.53</td>\n",
       "      <td>7.79</td>\n",
       "      <td>5.78</td>\n",
       "      <td>2.55</td>\n",
       "      <td>0.0</td>\n",
       "      <td>1.0</td>\n",
       "      <td>0.0</td>\n",
       "      <td>0.0</td>\n",
       "      <td>0.0</td>\n",
       "    </tr>\n",
       "    <tr>\n",
       "      <th>2</th>\n",
       "      <td>24.11</td>\n",
       "      <td>73.79</td>\n",
       "      <td>3.56</td>\n",
       "      <td>3</td>\n",
       "      <td>17.04</td>\n",
       "      <td>8.09</td>\n",
       "      <td>7.10</td>\n",
       "      <td>2.77</td>\n",
       "      <td>0.0</td>\n",
       "      <td>0.0</td>\n",
       "      <td>0.0</td>\n",
       "      <td>0.0</td>\n",
       "      <td>0.0</td>\n",
       "    </tr>\n",
       "    <tr>\n",
       "      <th>3</th>\n",
       "      <td>21.80</td>\n",
       "      <td>85.44</td>\n",
       "      <td>3.70</td>\n",
       "      <td>4</td>\n",
       "      <td>17.77</td>\n",
       "      <td>14.27</td>\n",
       "      <td>9.97</td>\n",
       "      <td>3.28</td>\n",
       "      <td>0.0</td>\n",
       "      <td>1.0</td>\n",
       "      <td>0.0</td>\n",
       "      <td>0.0</td>\n",
       "      <td>1.0</td>\n",
       "    </tr>\n",
       "    <tr>\n",
       "      <th>4</th>\n",
       "      <td>16.95</td>\n",
       "      <td>52.20</td>\n",
       "      <td>3.63</td>\n",
       "      <td>4</td>\n",
       "      <td>5.33</td>\n",
       "      <td>11.08</td>\n",
       "      <td>6.94</td>\n",
       "      <td>2.59</td>\n",
       "      <td>1.0</td>\n",
       "      <td>0.0</td>\n",
       "      <td>0.0</td>\n",
       "      <td>0.0</td>\n",
       "      <td>0.0</td>\n",
       "    </tr>\n",
       "  </tbody>\n",
       "</table>\n",
       "</div>"
      ],
      "text/plain": [
       "   Study Hours per Week  Attendance Rate  High School GPA  \\\n",
       "0                 21.95            79.64             2.83   \n",
       "1                 28.61            50.50             3.26   \n",
       "2                 24.11            73.79             3.56   \n",
       "3                 21.80            85.44             3.70   \n",
       "4                 16.95            52.20             3.63   \n",
       "\n",
       "   Extracurricular Activities  Library Usage per Week  \\\n",
       "0                           4                   16.87   \n",
       "1                           1                    6.53   \n",
       "2                           3                   17.04   \n",
       "3                           4                   17.77   \n",
       "4                           4                    5.33   \n",
       "\n",
       "   Online Coursework Engagement  Sleep Hours per Night  College GPA  \\\n",
       "0                         11.22                   5.64         2.80   \n",
       "1                          7.79                   5.78         2.55   \n",
       "2                          8.09                   7.10         2.77   \n",
       "3                         14.27                   9.97         3.28   \n",
       "4                         11.08                   6.94         2.59   \n",
       "\n",
       "   Major_Arts  Major_Business  Major_Engineering  Major_Science  \\\n",
       "0         0.0             1.0                0.0            0.0   \n",
       "1         0.0             1.0                0.0            0.0   \n",
       "2         0.0             0.0                0.0            0.0   \n",
       "3         0.0             1.0                0.0            0.0   \n",
       "4         1.0             0.0                0.0            0.0   \n",
       "\n",
       "   Part-Time Job_Yes  \n",
       "0                0.0  \n",
       "1                0.0  \n",
       "2                0.0  \n",
       "3                1.0  \n",
       "4                0.0  "
      ]
     },
     "execution_count": 5,
     "metadata": {},
     "output_type": "execute_result"
    }
   ],
   "source": [
    "df_cleaned = df_dummies.drop(['Part-Time Job_No'],axis=1)\n",
    "df_cleaned = df_cleaned.dropna()\n",
    "df_cleaned.head()"
   ]
  },
  {
   "cell_type": "markdown",
   "id": "0ea2e9b8-b018-4005-9a47-a7544f4e0b7c",
   "metadata": {},
   "source": [
    "# Select dependent variable and independent variables\n",
    "The dependent variable in this case is College GPA. The rest of the variables are the dependent variables"
   ]
  },
  {
   "cell_type": "code",
   "execution_count": 6,
   "id": "f6f18254-e47f-4af4-adb2-309f383d1f66",
   "metadata": {},
   "outputs": [],
   "source": [
    "Y = df_cleaned['College GPA']\n",
    "X = df_cleaned.drop(['College GPA'],axis=1) # Select all variables except for MEDV"
   ]
  },
  {
   "cell_type": "markdown",
   "id": "b73add56-ce08-40dc-8d73-702cfef13c2e",
   "metadata": {},
   "source": [
    "# Split the dataset into training and testing set\n",
    "The test size of the testing set is 20%. The rest will be used for training, selected randomly"
   ]
  },
  {
   "cell_type": "code",
   "execution_count": 7,
   "id": "362aabaf-fd92-47fb-a57d-867908102f2f",
   "metadata": {},
   "outputs": [],
   "source": [
    "X_train, X_test, Y_train, Y_test = train_test_split(X, Y, test_size=0.2, random_state=42)"
   ]
  },
  {
   "cell_type": "markdown",
   "id": "feeccee3-195d-44c5-b8e8-70236477d6d5",
   "metadata": {},
   "source": [
    "# 3. Perform Multiple Linear Regression\n",
    "Create and fit the multiple linear regression model"
   ]
  },
  {
   "cell_type": "code",
   "execution_count": 8,
   "id": "4acb61e4-d810-4fbe-9cc9-e6da0b737516",
   "metadata": {},
   "outputs": [
    {
     "data": {
      "text/html": [
       "<style>#sk-container-id-1 {color: black;}#sk-container-id-1 pre{padding: 0;}#sk-container-id-1 div.sk-toggleable {background-color: white;}#sk-container-id-1 label.sk-toggleable__label {cursor: pointer;display: block;width: 100%;margin-bottom: 0;padding: 0.3em;box-sizing: border-box;text-align: center;}#sk-container-id-1 label.sk-toggleable__label-arrow:before {content: \"▸\";float: left;margin-right: 0.25em;color: #696969;}#sk-container-id-1 label.sk-toggleable__label-arrow:hover:before {color: black;}#sk-container-id-1 div.sk-estimator:hover label.sk-toggleable__label-arrow:before {color: black;}#sk-container-id-1 div.sk-toggleable__content {max-height: 0;max-width: 0;overflow: hidden;text-align: left;background-color: #f0f8ff;}#sk-container-id-1 div.sk-toggleable__content pre {margin: 0.2em;color: black;border-radius: 0.25em;background-color: #f0f8ff;}#sk-container-id-1 input.sk-toggleable__control:checked~div.sk-toggleable__content {max-height: 200px;max-width: 100%;overflow: auto;}#sk-container-id-1 input.sk-toggleable__control:checked~label.sk-toggleable__label-arrow:before {content: \"▾\";}#sk-container-id-1 div.sk-estimator input.sk-toggleable__control:checked~label.sk-toggleable__label {background-color: #d4ebff;}#sk-container-id-1 div.sk-label input.sk-toggleable__control:checked~label.sk-toggleable__label {background-color: #d4ebff;}#sk-container-id-1 input.sk-hidden--visually {border: 0;clip: rect(1px 1px 1px 1px);clip: rect(1px, 1px, 1px, 1px);height: 1px;margin: -1px;overflow: hidden;padding: 0;position: absolute;width: 1px;}#sk-container-id-1 div.sk-estimator {font-family: monospace;background-color: #f0f8ff;border: 1px dotted black;border-radius: 0.25em;box-sizing: border-box;margin-bottom: 0.5em;}#sk-container-id-1 div.sk-estimator:hover {background-color: #d4ebff;}#sk-container-id-1 div.sk-parallel-item::after {content: \"\";width: 100%;border-bottom: 1px solid gray;flex-grow: 1;}#sk-container-id-1 div.sk-label:hover label.sk-toggleable__label {background-color: #d4ebff;}#sk-container-id-1 div.sk-serial::before {content: \"\";position: absolute;border-left: 1px solid gray;box-sizing: border-box;top: 0;bottom: 0;left: 50%;z-index: 0;}#sk-container-id-1 div.sk-serial {display: flex;flex-direction: column;align-items: center;background-color: white;padding-right: 0.2em;padding-left: 0.2em;position: relative;}#sk-container-id-1 div.sk-item {position: relative;z-index: 1;}#sk-container-id-1 div.sk-parallel {display: flex;align-items: stretch;justify-content: center;background-color: white;position: relative;}#sk-container-id-1 div.sk-item::before, #sk-container-id-1 div.sk-parallel-item::before {content: \"\";position: absolute;border-left: 1px solid gray;box-sizing: border-box;top: 0;bottom: 0;left: 50%;z-index: -1;}#sk-container-id-1 div.sk-parallel-item {display: flex;flex-direction: column;z-index: 1;position: relative;background-color: white;}#sk-container-id-1 div.sk-parallel-item:first-child::after {align-self: flex-end;width: 50%;}#sk-container-id-1 div.sk-parallel-item:last-child::after {align-self: flex-start;width: 50%;}#sk-container-id-1 div.sk-parallel-item:only-child::after {width: 0;}#sk-container-id-1 div.sk-dashed-wrapped {border: 1px dashed gray;margin: 0 0.4em 0.5em 0.4em;box-sizing: border-box;padding-bottom: 0.4em;background-color: white;}#sk-container-id-1 div.sk-label label {font-family: monospace;font-weight: bold;display: inline-block;line-height: 1.2em;}#sk-container-id-1 div.sk-label-container {text-align: center;}#sk-container-id-1 div.sk-container {/* jupyter's `normalize.less` sets `[hidden] { display: none; }` but bootstrap.min.css set `[hidden] { display: none !important; }` so we also need the `!important` here to be able to override the default hidden behavior on the sphinx rendered scikit-learn.org. See: https://github.com/scikit-learn/scikit-learn/issues/21755 */display: inline-block !important;position: relative;}#sk-container-id-1 div.sk-text-repr-fallback {display: none;}</style><div id=\"sk-container-id-1\" class=\"sk-top-container\"><div class=\"sk-text-repr-fallback\"><pre>LinearRegression()</pre><b>In a Jupyter environment, please rerun this cell to show the HTML representation or trust the notebook. <br />On GitHub, the HTML representation is unable to render, please try loading this page with nbviewer.org.</b></div><div class=\"sk-container\" hidden><div class=\"sk-item\"><div class=\"sk-estimator sk-toggleable\"><input class=\"sk-toggleable__control sk-hidden--visually\" id=\"sk-estimator-id-1\" type=\"checkbox\" checked><label for=\"sk-estimator-id-1\" class=\"sk-toggleable__label sk-toggleable__label-arrow\">LinearRegression</label><div class=\"sk-toggleable__content\"><pre>LinearRegression()</pre></div></div></div></div></div>"
      ],
      "text/plain": [
       "LinearRegression()"
      ]
     },
     "execution_count": 8,
     "metadata": {},
     "output_type": "execute_result"
    }
   ],
   "source": [
    "# Create a linear regression model\n",
    "model = LinearRegression()\n",
    "\n",
    "# Fit the model to the training data\n",
    "model.fit(X_train, Y_train)"
   ]
  },
  {
   "cell_type": "markdown",
   "id": "01f3e672-2c42-43d4-b99d-180b16523c1e",
   "metadata": {},
   "source": [
    "Make predictions"
   ]
  },
  {
   "cell_type": "code",
   "execution_count": 9,
   "id": "e2d37465-6386-426f-877f-ff2a9b53f2e5",
   "metadata": {},
   "outputs": [],
   "source": [
    "Y_pred = model.predict(X_test)"
   ]
  },
  {
   "cell_type": "markdown",
   "id": "a316d7be-2cd0-42c9-a9e6-7634ada1f47d",
   "metadata": {},
   "source": [
    "# 4/5. Interpret/Evaluate the Model"
   ]
  },
  {
   "cell_type": "code",
   "execution_count": 10,
   "id": "458bc445-e1fd-4b94-a49f-6625759b9b5f",
   "metadata": {},
   "outputs": [
    {
     "name": "stdout",
     "output_type": "stream",
     "text": [
      "Mean Squared Error (MSE): 0.00\n",
      "Root Mean Squared Error (RMSE): 0.00\n",
      "R-squared (R²): 1.00\n"
     ]
    }
   ],
   "source": [
    "mse = mean_squared_error(Y_test, Y_pred)\n",
    "rmse = np.sqrt(mse)\n",
    "r2 = r2_score(Y_test, Y_pred)\n",
    "\n",
    "print(f'Mean Squared Error (MSE): {mse:.2f}')\n",
    "print(f'Root Mean Squared Error (RMSE): {rmse:.2f}')\n",
    "print(f'R-squared (R²): {r2:.2f}')"
   ]
  },
  {
   "cell_type": "markdown",
   "id": "e7e55dd6-b551-4cde-9aca-95a28c03a97e",
   "metadata": {},
   "source": [
    "The R-squared is 1.00, which indicates a perfect correlation between the dependent and independent variables\n",
    "\n",
    "We also should look at the coefficients of the model"
   ]
  },
  {
   "cell_type": "code",
   "execution_count": 11,
   "id": "d87ede5c-6bf3-4857-b4b8-342cdefd17a9",
   "metadata": {},
   "outputs": [
    {
     "name": "stdout",
     "output_type": "stream",
     "text": [
      "                         Feature  Coefficient\n",
      "0           Study Hours per Week     0.025001\n",
      "1                Attendance Rate     0.010004\n",
      "2                High School GPA     0.250236\n",
      "3     Extracurricular Activities    -0.000084\n",
      "4         Library Usage per Week     0.000016\n",
      "5   Online Coursework Engagement     0.066678\n",
      "6          Sleep Hours per Night    -0.000042\n",
      "7                     Major_Arts    -0.000050\n",
      "8                 Major_Business    -0.000341\n",
      "9              Major_Engineering     0.000037\n",
      "10                 Major_Science     0.000049\n",
      "11             Part-Time Job_Yes    -0.000278\n"
     ]
    }
   ],
   "source": [
    "coefficients = pd.DataFrame({'Feature': X.columns, 'Coefficient': model.coef_})  \n",
    "print(coefficients) "
   ]
  },
  {
   "cell_type": "markdown",
   "id": "95cf6d72-783c-43cf-b1da-93cb13d11420",
   "metadata": {},
   "source": [
    "Key variables that I notice include High School GPA as the biggest contributing factor. Other variables that are statistically significant include Study Hours per Week, Online Coursework Engagement, and Attendance Rate."
   ]
  },
  {
   "cell_type": "code",
   "execution_count": 12,
   "id": "fed15253-093b-4ea8-976e-6ade4b101aac",
   "metadata": {},
   "outputs": [],
   "source": [
    "import statsmodels.api as sm"
   ]
  },
  {
   "cell_type": "code",
   "execution_count": 13,
   "id": "b3586d6c-ae3a-41f4-b27e-14ea131772ec",
   "metadata": {},
   "outputs": [],
   "source": [
    "# Add a constant term to the independent variables matrix for the intercept\n",
    "X = sm.add_constant(X)\n",
    "\n",
    "# Fit the multiple linear regression model\n",
    "model = sm.OLS(Y, X).fit()"
   ]
  },
  {
   "cell_type": "code",
   "execution_count": 14,
   "id": "bb40e3b9-c17e-405b-bcb8-a31a0783f574",
   "metadata": {},
   "outputs": [
    {
     "name": "stdout",
     "output_type": "stream",
     "text": [
      "                            OLS Regression Results                            \n",
      "==============================================================================\n",
      "Dep. Variable:            College GPA   R-squared:                       1.000\n",
      "Model:                            OLS   Adj. R-squared:                  1.000\n",
      "Method:                 Least Squares   F-statistic:                 3.296e+06\n",
      "Date:                Sun, 04 Feb 2024   Prob (F-statistic):               0.00\n",
      "Time:                        17:24:33   Log-Likelihood:                 7249.4\n",
      "No. Observations:                1638   AIC:                        -1.447e+04\n",
      "Df Residuals:                    1625   BIC:                        -1.440e+04\n",
      "Df Model:                          12                                         \n",
      "Covariance Type:            nonrobust                                         \n",
      "================================================================================================\n",
      "                                   coef    std err          t      P>|t|      [0.025      0.975]\n",
      "------------------------------------------------------------------------------------------------\n",
      "const                           -0.0002      0.001     -0.205      0.838      -0.002       0.001\n",
      "Study Hours per Week             0.0250   6.22e-06   4018.722      0.000       0.025       0.025\n",
      "Attendance Rate                  0.0100   4.92e-06   2030.832      0.000       0.010       0.010\n",
      "High School GPA                  0.2502      0.000   1995.791      0.000       0.250       0.250\n",
      "Extracurricular Activities   -8.062e-05   5.11e-05     -1.577      0.115      -0.000    1.97e-05\n",
      "Library Usage per Week        9.897e-06   1.25e-05      0.794      0.428   -1.46e-05    3.44e-05\n",
      "Online Coursework Engagement     0.0667   1.69e-05   3955.399      0.000       0.067       0.067\n",
      "Sleep Hours per Night        -5.737e-05   4.13e-05     -1.389      0.165      -0.000    2.36e-05\n",
      "Major_Arts                     2.03e-05      0.000      0.045      0.964      -0.001       0.001\n",
      "Major_Business                  -0.0003      0.000     -0.648      0.517      -0.001       0.001\n",
      "Major_Engineering             5.741e-05      0.000      0.126      0.900      -0.001       0.001\n",
      "Major_Science                 7.235e-05      0.000      0.160      0.873      -0.001       0.001\n",
      "Part-Time Job_Yes               -0.0002      0.000     -1.146      0.252      -0.000       0.000\n",
      "==============================================================================\n",
      "Omnibus:                     1268.599   Durbin-Watson:                   1.958\n",
      "Prob(Omnibus):                  0.000   Jarque-Bera (JB):               98.342\n",
      "Skew:                          -0.037   Prob(JB):                     4.42e-22\n",
      "Kurtosis:                       1.802   Cond. No.                     1.16e+03\n",
      "==============================================================================\n",
      "\n",
      "Notes:\n",
      "[1] Standard Errors assume that the covariance matrix of the errors is correctly specified.\n",
      "[2] The condition number is large, 1.16e+03. This might indicate that there are\n",
      "strong multicollinearity or other numerical problems.\n"
     ]
    }
   ],
   "source": [
    "summary = model.summary()\n",
    "print(summary)"
   ]
  },
  {
   "cell_type": "markdown",
   "id": "db57b46a-dfc2-48ac-bb83-e01921251b6e",
   "metadata": {},
   "source": [
    "# 6. Provide recommendations or insights\n",
    "\n",
    "**R-squared (R²):** The r-squared and adjusted r-squared values provided in the model suggests that the model is a perfect fit. This is surprising considering there are usually outliers in models. Either the dataset itself is not reliable or the model is very good.\n",
    "\n",
    "**F-statistic:** The F-statistic indicates the model is statistically significant in predicting College GPA, as the F-statistic is high.\n",
    "\n",
    "**Prob (F-statistic):** The p-value associated with the F-statistic is zero, indicating that the model is highly significant.\n",
    "\n",
    "**Coefficients (coef):** Higher coefficients indicate a significant effect on College GPA. Study Hours Per Week, Attendance Rate, High School GPA, and Online Coursework Engagement all have high coefficient values compared to the other variables"
   ]
  },
  {
   "cell_type": "markdown",
   "id": "dbd5ab54-f50c-4ee6-9c52-dde1a05baffa",
   "metadata": {},
   "source": [
    "Evaluating the model provides clear insight into the important variables listed in the report. The 4 variables that have a p-score less than 0.05 are Study Hours Per Week, Attendance Rate, High School GPA, and Online Coursework Engagement. All other p-scores are higher than this. It is safe to say that these factors are the most relevant to predicting College GPA.\n",
    "\n",
    "The primary people who should use this model include students of all types who wish to get into top colleges as well as perform well in school. Because High School GPA is a significant factor that contributes to College GPA, it is beneficial to push students to do well in high school and prepare them accordingly. Actively engaging in class is a big factor to College GPA as well. Major, having a job, library usage, and sleep hours per week do not seem to be significant enough to focus on in improving college GPA."
   ]
  },
  {
   "cell_type": "code",
   "execution_count": null,
   "id": "c52833e6-9a7a-45b2-b9e5-a3d5c2f90328",
   "metadata": {},
   "outputs": [],
   "source": []
  }
 ],
 "metadata": {
  "kernelspec": {
   "display_name": "Python 3 (ipykernel)",
   "language": "python",
   "name": "python3"
  },
  "language_info": {
   "codemirror_mode": {
    "name": "ipython",
    "version": 3
   },
   "file_extension": ".py",
   "mimetype": "text/x-python",
   "name": "python",
   "nbconvert_exporter": "python",
   "pygments_lexer": "ipython3",
   "version": "3.10.11"
  }
 },
 "nbformat": 4,
 "nbformat_minor": 5
}
