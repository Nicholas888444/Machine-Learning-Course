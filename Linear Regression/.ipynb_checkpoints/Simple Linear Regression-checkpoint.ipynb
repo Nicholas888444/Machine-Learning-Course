{
 "cells": [
  {
   "cell_type": "markdown",
   "id": "b7187366-3883-45a7-bee8-e6382002139e",
   "metadata": {},
   "source": [
    "# Simple Linear Regression\n",
    "Performing linear regression in Python is straightforward, thanks to libraries like NumPy, pandas, and scikit-learn. Here's a step-by-step guide on how to perform simple linear regression using these libraries:"
   ]
  },
  {
   "cell_type": "markdown",
   "id": "26d76460-9f87-43ac-8c96-6824f4cf70f5",
   "metadata": {},
   "source": [
    "### Step 0: Install the necessary libraries"
   ]
  },
  {
   "cell_type": "code",
   "execution_count": 11,
   "id": "d3faf54b-91b1-4e5f-971c-80b5fc841540",
   "metadata": {
    "scrolled": true
   },
   "outputs": [
    {
     "name": "stdout",
     "output_type": "stream",
     "text": [
      "Requirement already satisfied: numpy in c:\\users\\ly768\\appdata\\local\\programs\\python\\python310\\lib\\site-packages (1.26.3)\n",
      "Note: you may need to restart the kernel to use updated packages.\n"
     ]
    }
   ],
   "source": [
    "pip install numpy"
   ]
  },
  {
   "cell_type": "code",
   "execution_count": null,
   "id": "0d1ab78b-50de-4c55-b036-64a5b29700c8",
   "metadata": {},
   "outputs": [],
   "source": [
    "pip install pandas"
   ]
  },
  {
   "cell_type": "code",
   "execution_count": null,
   "id": "5498bf10-dede-4255-ba6f-abf1d6ee62f1",
   "metadata": {},
   "outputs": [],
   "source": [
    "pip install matplotlib"
   ]
  },
  {
   "cell_type": "code",
   "execution_count": 10,
   "id": "41ce91e3-312f-417e-8207-53f96372ac1c",
   "metadata": {},
   "outputs": [
    {
     "name": "stdout",
     "output_type": "stream",
     "text": [
      "Requirement already satisfied: scikit-learn in c:\\users\\ly768\\appdata\\local\\programs\\python\\python310\\lib\\site-packages (1.3.2)\n",
      "Requirement already satisfied: numpy<2.0,>=1.17.3 in c:\\users\\ly768\\appdata\\local\\programs\\python\\python310\\lib\\site-packages (from scikit-learn) (1.26.3)\n",
      "Requirement already satisfied: scipy>=1.5.0 in c:\\users\\ly768\\appdata\\local\\programs\\python\\python310\\lib\\site-packages (from scikit-learn) (1.11.4)\n",
      "Requirement already satisfied: joblib>=1.1.1 in c:\\users\\ly768\\appdata\\local\\programs\\python\\python310\\lib\\site-packages (from scikit-learn) (1.3.2)\n",
      "Requirement already satisfied: threadpoolctl>=2.0.0 in c:\\users\\ly768\\appdata\\local\\programs\\python\\python310\\lib\\site-packages (from scikit-learn) (3.2.0)\n",
      "Note: you may need to restart the kernel to use updated packages.\n"
     ]
    }
   ],
   "source": [
    "pip install scikit-learn"
   ]
  },
  {
   "cell_type": "markdown",
   "id": "9df0229b-2831-4f48-8be3-f8f0c7612df3",
   "metadata": {},
   "source": [
    "### Step 1: Import the necessary libraries"
   ]
  },
  {
   "cell_type": "code",
   "execution_count": 12,
   "id": "523c6581-98f9-494a-976a-e37287d78a4f",
   "metadata": {},
   "outputs": [],
   "source": [
    "import numpy as np\n",
    "import pandas as pd\n",
    "import matplotlib.pyplot as plt\n",
    "from sklearn.linear_model import LinearRegression"
   ]
  },
  {
   "cell_type": "markdown",
   "id": "c3610c19-feed-46ef-a4c8-52c63d246940",
   "metadata": {},
   "source": [
    "### Step 2: Load and explore your dataset"
   ]
  },
  {
   "cell_type": "markdown",
   "id": "8d3f4fb7-dd61-4f23-8280-f9abd5f2ab28",
   "metadata": {},
   "source": [
    "Assuming you have a dataset in a CSV file, you can load it using pandas:\n",
    "\n",
    "data = pd.read_csv('your_dataset.csv')\n",
    "\n",
    "In this tutorial, we will use an online dataset from https://github.com/ybifoundation/Dataset/raw/main/Salary%20Data.csv"
   ]
  },
  {
   "cell_type": "code",
   "execution_count": 13,
   "id": "5258ec3a-a042-4c65-ad85-0e08c5f889f5",
   "metadata": {},
   "outputs": [],
   "source": [
    "data = pd.read_csv('https://github.com/ybifoundation/Dataset/raw/main/Salary%20Data.csv')"
   ]
  },
  {
   "cell_type": "markdown",
   "id": "5e449a80-1d3f-4459-9281-6e607734331e",
   "metadata": {},
   "source": [
    "You can explore the dataset using commands like data.head() to see the first few rows or data.info() to get information about the columns and data types."
   ]
  },
  {
   "cell_type": "code",
   "execution_count": 14,
   "id": "c08d9030-43d4-4ef7-8410-726f42c9cf28",
   "metadata": {},
   "outputs": [
    {
     "data": {
      "text/html": [
       "<div>\n",
       "<style scoped>\n",
       "    .dataframe tbody tr th:only-of-type {\n",
       "        vertical-align: middle;\n",
       "    }\n",
       "\n",
       "    .dataframe tbody tr th {\n",
       "        vertical-align: top;\n",
       "    }\n",
       "\n",
       "    .dataframe thead th {\n",
       "        text-align: right;\n",
       "    }\n",
       "</style>\n",
       "<table border=\"1\" class=\"dataframe\">\n",
       "  <thead>\n",
       "    <tr style=\"text-align: right;\">\n",
       "      <th></th>\n",
       "      <th>Experience Years</th>\n",
       "      <th>Salary</th>\n",
       "    </tr>\n",
       "  </thead>\n",
       "  <tbody>\n",
       "    <tr>\n",
       "      <th>0</th>\n",
       "      <td>1.1</td>\n",
       "      <td>39343</td>\n",
       "    </tr>\n",
       "    <tr>\n",
       "      <th>1</th>\n",
       "      <td>1.2</td>\n",
       "      <td>42774</td>\n",
       "    </tr>\n",
       "    <tr>\n",
       "      <th>2</th>\n",
       "      <td>1.3</td>\n",
       "      <td>46205</td>\n",
       "    </tr>\n",
       "    <tr>\n",
       "      <th>3</th>\n",
       "      <td>1.5</td>\n",
       "      <td>37731</td>\n",
       "    </tr>\n",
       "    <tr>\n",
       "      <th>4</th>\n",
       "      <td>2.0</td>\n",
       "      <td>43525</td>\n",
       "    </tr>\n",
       "  </tbody>\n",
       "</table>\n",
       "</div>"
      ],
      "text/plain": [
       "   Experience Years  Salary\n",
       "0               1.1   39343\n",
       "1               1.2   42774\n",
       "2               1.3   46205\n",
       "3               1.5   37731\n",
       "4               2.0   43525"
      ]
     },
     "execution_count": 14,
     "metadata": {},
     "output_type": "execute_result"
    }
   ],
   "source": [
    "data.head()"
   ]
  },
  {
   "cell_type": "code",
   "execution_count": 15,
   "id": "67a75031-f522-47a5-9a14-2a25f44fdc39",
   "metadata": {},
   "outputs": [
    {
     "name": "stdout",
     "output_type": "stream",
     "text": [
      "<class 'pandas.core.frame.DataFrame'>\n",
      "RangeIndex: 40 entries, 0 to 39\n",
      "Data columns (total 2 columns):\n",
      " #   Column            Non-Null Count  Dtype  \n",
      "---  ------            --------------  -----  \n",
      " 0   Experience Years  40 non-null     float64\n",
      " 1   Salary            40 non-null     int64  \n",
      "dtypes: float64(1), int64(1)\n",
      "memory usage: 768.0 bytes\n"
     ]
    }
   ],
   "source": [
    "data.info()"
   ]
  },
  {
   "cell_type": "markdown",
   "id": "9370d3c2-8e63-44f2-bedb-0094231598dd",
   "metadata": {},
   "source": [
    "### Step 3: Prepare your data"
   ]
  },
  {
   "cell_type": "markdown",
   "id": "faa35215-456e-4ba1-a224-4e72f46544ae",
   "metadata": {},
   "source": [
    "In simple linear regression, you typically have two columns: one for the independent variable (X) and another for the dependent variable (Y). You need to extract these columns from your dataset:\n",
    "\n",
    "X = data[['Independent_Variable_Column']]\n",
    "\n",
    "Y = data['Dependent_Variable_Column']\n",
    "\n",
    "Here we will use Experience Years as independent variable (X) and Salary as dependent variable (Y)."
   ]
  },
  {
   "cell_type": "code",
   "execution_count": 17,
   "id": "300ee282-6e27-4405-9c25-836306d2f44c",
   "metadata": {},
   "outputs": [],
   "source": [
    "X = data[['Experience Years']]\n",
    "Y = data['Salary']"
   ]
  },
  {
   "cell_type": "markdown",
   "id": "9201c071-2d0d-4644-b34a-0a9ff48c5de7",
   "metadata": {},
   "source": [
    "### Step 4: Create and fit the linear regression model"
   ]
  },
  {
   "cell_type": "code",
   "execution_count": 18,
   "id": "9d4abb4e-9259-4556-9851-556fb9ba08cf",
   "metadata": {},
   "outputs": [
    {
     "data": {
      "text/html": [
       "<style>#sk-container-id-1 {color: black;}#sk-container-id-1 pre{padding: 0;}#sk-container-id-1 div.sk-toggleable {background-color: white;}#sk-container-id-1 label.sk-toggleable__label {cursor: pointer;display: block;width: 100%;margin-bottom: 0;padding: 0.3em;box-sizing: border-box;text-align: center;}#sk-container-id-1 label.sk-toggleable__label-arrow:before {content: \"▸\";float: left;margin-right: 0.25em;color: #696969;}#sk-container-id-1 label.sk-toggleable__label-arrow:hover:before {color: black;}#sk-container-id-1 div.sk-estimator:hover label.sk-toggleable__label-arrow:before {color: black;}#sk-container-id-1 div.sk-toggleable__content {max-height: 0;max-width: 0;overflow: hidden;text-align: left;background-color: #f0f8ff;}#sk-container-id-1 div.sk-toggleable__content pre {margin: 0.2em;color: black;border-radius: 0.25em;background-color: #f0f8ff;}#sk-container-id-1 input.sk-toggleable__control:checked~div.sk-toggleable__content {max-height: 200px;max-width: 100%;overflow: auto;}#sk-container-id-1 input.sk-toggleable__control:checked~label.sk-toggleable__label-arrow:before {content: \"▾\";}#sk-container-id-1 div.sk-estimator input.sk-toggleable__control:checked~label.sk-toggleable__label {background-color: #d4ebff;}#sk-container-id-1 div.sk-label input.sk-toggleable__control:checked~label.sk-toggleable__label {background-color: #d4ebff;}#sk-container-id-1 input.sk-hidden--visually {border: 0;clip: rect(1px 1px 1px 1px);clip: rect(1px, 1px, 1px, 1px);height: 1px;margin: -1px;overflow: hidden;padding: 0;position: absolute;width: 1px;}#sk-container-id-1 div.sk-estimator {font-family: monospace;background-color: #f0f8ff;border: 1px dotted black;border-radius: 0.25em;box-sizing: border-box;margin-bottom: 0.5em;}#sk-container-id-1 div.sk-estimator:hover {background-color: #d4ebff;}#sk-container-id-1 div.sk-parallel-item::after {content: \"\";width: 100%;border-bottom: 1px solid gray;flex-grow: 1;}#sk-container-id-1 div.sk-label:hover label.sk-toggleable__label {background-color: #d4ebff;}#sk-container-id-1 div.sk-serial::before {content: \"\";position: absolute;border-left: 1px solid gray;box-sizing: border-box;top: 0;bottom: 0;left: 50%;z-index: 0;}#sk-container-id-1 div.sk-serial {display: flex;flex-direction: column;align-items: center;background-color: white;padding-right: 0.2em;padding-left: 0.2em;position: relative;}#sk-container-id-1 div.sk-item {position: relative;z-index: 1;}#sk-container-id-1 div.sk-parallel {display: flex;align-items: stretch;justify-content: center;background-color: white;position: relative;}#sk-container-id-1 div.sk-item::before, #sk-container-id-1 div.sk-parallel-item::before {content: \"\";position: absolute;border-left: 1px solid gray;box-sizing: border-box;top: 0;bottom: 0;left: 50%;z-index: -1;}#sk-container-id-1 div.sk-parallel-item {display: flex;flex-direction: column;z-index: 1;position: relative;background-color: white;}#sk-container-id-1 div.sk-parallel-item:first-child::after {align-self: flex-end;width: 50%;}#sk-container-id-1 div.sk-parallel-item:last-child::after {align-self: flex-start;width: 50%;}#sk-container-id-1 div.sk-parallel-item:only-child::after {width: 0;}#sk-container-id-1 div.sk-dashed-wrapped {border: 1px dashed gray;margin: 0 0.4em 0.5em 0.4em;box-sizing: border-box;padding-bottom: 0.4em;background-color: white;}#sk-container-id-1 div.sk-label label {font-family: monospace;font-weight: bold;display: inline-block;line-height: 1.2em;}#sk-container-id-1 div.sk-label-container {text-align: center;}#sk-container-id-1 div.sk-container {/* jupyter's `normalize.less` sets `[hidden] { display: none; }` but bootstrap.min.css set `[hidden] { display: none !important; }` so we also need the `!important` here to be able to override the default hidden behavior on the sphinx rendered scikit-learn.org. See: https://github.com/scikit-learn/scikit-learn/issues/21755 */display: inline-block !important;position: relative;}#sk-container-id-1 div.sk-text-repr-fallback {display: none;}</style><div id=\"sk-container-id-1\" class=\"sk-top-container\"><div class=\"sk-text-repr-fallback\"><pre>LinearRegression()</pre><b>In a Jupyter environment, please rerun this cell to show the HTML representation or trust the notebook. <br />On GitHub, the HTML representation is unable to render, please try loading this page with nbviewer.org.</b></div><div class=\"sk-container\" hidden><div class=\"sk-item\"><div class=\"sk-estimator sk-toggleable\"><input class=\"sk-toggleable__control sk-hidden--visually\" id=\"sk-estimator-id-1\" type=\"checkbox\" checked><label for=\"sk-estimator-id-1\" class=\"sk-toggleable__label sk-toggleable__label-arrow\">LinearRegression</label><div class=\"sk-toggleable__content\"><pre>LinearRegression()</pre></div></div></div></div></div>"
      ],
      "text/plain": [
       "LinearRegression()"
      ]
     },
     "execution_count": 18,
     "metadata": {},
     "output_type": "execute_result"
    }
   ],
   "source": [
    "# Create a linear regression model\n",
    "model = LinearRegression()\n",
    "\n",
    "# Fit the model to your data\n",
    "model.fit(X, Y)"
   ]
  },
  {
   "cell_type": "markdown",
   "id": "d2ffad9b-0fb2-4c1b-869a-fb3d6d04336f",
   "metadata": {},
   "source": [
    "At this point, the model has calculated the optimal values for the coefficients (β0 and β1) using Least-Squares Estimation."
   ]
  },
  {
   "cell_type": "markdown",
   "id": "5e2da664-abcc-43b0-b7e3-224c997b52b9",
   "metadata": {},
   "source": [
    "### Step 5: Make predictions"
   ]
  },
  {
   "cell_type": "markdown",
   "id": "e29b3dd9-09a6-42f6-b3cf-6273ddc0b582",
   "metadata": {},
   "source": [
    "You can use your trained model to make predictions for new or existing data points:"
   ]
  },
  {
   "cell_type": "code",
   "execution_count": 19,
   "id": "c151a705-21e7-4555-930c-2dd7ca8fdb16",
   "metadata": {},
   "outputs": [],
   "source": [
    "# Make predictions for X values\n",
    "Y_pred = model.predict(X)"
   ]
  },
  {
   "cell_type": "markdown",
   "id": "47ca1118-3788-4eec-b590-95f74e94754e",
   "metadata": {},
   "source": [
    "### Step 6: Visualize the results"
   ]
  },
  {
   "cell_type": "markdown",
   "id": "5e893ba8-49d3-4586-8aff-7c41c1294894",
   "metadata": {},
   "source": [
    "To visualize the regression line along with your data points:"
   ]
  },
  {
   "cell_type": "code",
   "execution_count": 23,
   "id": "925d9baf-f3ae-4db6-b18e-368f6b041d95",
   "metadata": {},
   "outputs": [
    {
     "data": {
      "image/png": "[encoded data removed]",
      "text/plain": [
       "<Figure size 640x480 with 1 Axes>"
      ]
     },
     "metadata": {},
     "output_type": "display_data"
    }
   ],
   "source": [
    "# Plot the original data\n",
    "plt.scatter(X, Y, label='Data')\n",
    "\n",
    "# Plot the regression line\n",
    "plt.plot(X, Y_pred, color='red', label='Linear Regression')\n",
    "\n",
    "# Customize the plot\n",
    "plt.xlabel('Independent Variable (Experience Years)')\n",
    "plt.ylabel('Dependent Variable (Salary)')\n",
    "plt.legend()\n",
    "plt.show()"
   ]
  },
  {
   "cell_type": "markdown",
   "id": "78bff933-5320-4fd0-b05e-4f862b29cbfd",
   "metadata": {},
   "source": [
    "This will give you a scatter plot of your data with the regression line."
   ]
  },
  {
   "cell_type": "markdown",
   "id": "8baf403b-4435-4eef-a2d7-945ee8a41b18",
   "metadata": {},
   "source": [
    "### Step 7: Evaluate the model"
   ]
  },
  {
   "cell_type": "markdown",
   "id": "285fc405-8e60-4074-a07d-5d8c837a6559",
   "metadata": {},
   "source": [
    "You can evaluate the model's performance using metrics such as R-squared, Mean Squared Error (MSE), or Root Mean Squared Error (RMSE) to assess how well it fits the data. "
   ]
  },
  {
   "cell_type": "code",
   "execution_count": 25,
   "id": "2e1eca59-37ed-4838-a504-fc4d87bc0647",
   "metadata": {},
   "outputs": [
    {
     "name": "stdout",
     "output_type": "stream",
     "text": [
      "Mean Squared Error (MSE): 28960383.65\n",
      "Root Mean Squared Error (RMSE): 5381.49\n",
      "R-squared (R²): 0.96\n"
     ]
    }
   ],
   "source": [
    "from sklearn.metrics import mean_squared_error, r2_score\n",
    "\n",
    "mse = mean_squared_error(Y, Y_pred)\n",
    "rmse = np.sqrt(mse)\n",
    "r2 = r2_score(Y, Y_pred)\n",
    "\n",
    "print(f'Mean Squared Error (MSE): {mse:.2f}')\n",
    "print(f'Root Mean Squared Error (RMSE): {rmse:.2f}')\n",
    "print(f'R-squared (R²): {r2:.2f}')"
   ]
  }
 ],
 "metadata": {
  "kernelspec": {
   "display_name": "Python 3 (ipykernel)",
   "language": "python",
   "name": "python3"
  },
  "language_info": {
   "codemirror_mode": {
    "name": "ipython",
    "version": 3
   },
   "file_extension": ".py",
   "mimetype": "text/x-python",
   "name": "python",
   "nbconvert_exporter": "python",
   "pygments_lexer": "ipython3",
   "version": "3.10.11"
  }
 },
 "nbformat": 4,
 "nbformat_minor": 5
}
