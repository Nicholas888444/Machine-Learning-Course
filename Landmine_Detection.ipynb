{
 "cells": [
  {
   "cell_type": "markdown",
   "metadata": {},
   "source": [
    "# Nicholas Thomson\n",
    "### Landmine Detection Course Project"
   ]
  },
  {
   "cell_type": "markdown",
   "metadata": {},
   "source": [
    "The dataset was taken from UCI Machine Learning Repository at this link: https://archive.ics.uci.edu/dataset/763/land+mines-1\n",
    "\n",
    "The dataset contains variables that a sensor would use to detect whether there is a landmine or not, and what type of landmine is present."
   ]
  },
  {
   "cell_type": "markdown",
   "metadata": {},
   "source": [
    "### Import Packages"
   ]
  },
  {
   "cell_type": "code",
   "execution_count": 1,
   "metadata": {},
   "outputs": [
    {
     "name": "stdout",
     "output_type": "stream",
     "text": [
      "Requirement already satisfied: ucimlrepo in c:\\users\\nick8\\appdata\\local\\packages\\pythonsoftwarefoundation.python.3.10_qbz5n2kfra8p0\\localcache\\local-packages\\python310\\site-packages (0.0.3)\n"
     ]
    }
   ],
   "source": [
    "!pip install ucimlrepo"
   ]
  },
  {
   "cell_type": "code",
   "execution_count": 2,
   "metadata": {},
   "outputs": [],
   "source": [
    "from ucimlrepo import fetch_ucirepo \n",
    "import pandas as pd\n",
    "import torch\n",
    "import torch.nn as nn\n",
    "import torch.optim as optim\n",
    "from sklearn.model_selection import train_test_split\n",
    "from sklearn.preprocessing import StandardScaler\n",
    "from torch.utils.data import TensorDataset, DataLoader"
   ]
  },
  {
   "cell_type": "markdown",
   "metadata": {},
   "source": [
    "### Load the dataset"
   ]
  },
  {
   "cell_type": "code",
   "execution_count": 3,
   "metadata": {},
   "outputs": [],
   "source": [
    "# fetch dataset \n",
    "land_mines = fetch_ucirepo(id=763) \n",
    "  \n",
    "# data (as pandas dataframes) \n",
    "X = land_mines.data.features \n",
    "y = land_mines.data.targets"
   ]
  },
  {
   "cell_type": "code",
   "execution_count": 4,
   "metadata": {},
   "outputs": [
    {
     "data": {
      "text/html": [
       "<div>\n",
       "<style scoped>\n",
       "    .dataframe tbody tr th:only-of-type {\n",
       "        vertical-align: middle;\n",
       "    }\n",
       "\n",
       "    .dataframe tbody tr th {\n",
       "        vertical-align: top;\n",
       "    }\n",
       "\n",
       "    .dataframe thead th {\n",
       "        text-align: right;\n",
       "    }\n",
       "</style>\n",
       "<table border=\"1\" class=\"dataframe\">\n",
       "  <thead>\n",
       "    <tr style=\"text-align: right;\">\n",
       "      <th></th>\n",
       "      <th>V</th>\n",
       "      <th>H</th>\n",
       "      <th>S</th>\n",
       "    </tr>\n",
       "  </thead>\n",
       "  <tbody>\n",
       "    <tr>\n",
       "      <th>0</th>\n",
       "      <td>0.338157</td>\n",
       "      <td>0.000000</td>\n",
       "      <td>0.0</td>\n",
       "    </tr>\n",
       "    <tr>\n",
       "      <th>1</th>\n",
       "      <td>0.320241</td>\n",
       "      <td>0.181818</td>\n",
       "      <td>0.0</td>\n",
       "    </tr>\n",
       "    <tr>\n",
       "      <th>2</th>\n",
       "      <td>0.287009</td>\n",
       "      <td>0.272727</td>\n",
       "      <td>0.0</td>\n",
       "    </tr>\n",
       "    <tr>\n",
       "      <th>3</th>\n",
       "      <td>0.256284</td>\n",
       "      <td>0.454545</td>\n",
       "      <td>0.0</td>\n",
       "    </tr>\n",
       "    <tr>\n",
       "      <th>4</th>\n",
       "      <td>0.262840</td>\n",
       "      <td>0.545455</td>\n",
       "      <td>0.0</td>\n",
       "    </tr>\n",
       "  </tbody>\n",
       "</table>\n",
       "</div>"
      ],
      "text/plain": [
       "          V         H    S\n",
       "0  0.338157  0.000000  0.0\n",
       "1  0.320241  0.181818  0.0\n",
       "2  0.287009  0.272727  0.0\n",
       "3  0.256284  0.454545  0.0\n",
       "4  0.262840  0.545455  0.0"
      ]
     },
     "execution_count": 4,
     "metadata": {},
     "output_type": "execute_result"
    }
   ],
   "source": [
    "X.head()"
   ]
  },
  {
   "cell_type": "code",
   "execution_count": 5,
   "metadata": {},
   "outputs": [
    {
     "data": {
      "text/plain": [
       "array([0. , 0.6, 0.2, 0.8, 0.4, 1. ])"
      ]
     },
     "execution_count": 5,
     "metadata": {},
     "output_type": "execute_result"
    }
   ],
   "source": [
    "X['S'].unique()"
   ]
  },
  {
   "cell_type": "code",
   "execution_count": 6,
   "metadata": {},
   "outputs": [
    {
     "name": "stdout",
     "output_type": "stream",
     "text": [
      "Voltage(V) range: 0.197733879 to 0.999998728\n",
      "Height(H) range: 0.0 to 1.0\n",
      "Soil(S) range: 0.0 to 1.0\n"
     ]
    }
   ],
   "source": [
    "print(\"Voltage(V) range: \" + str(X['V'].unique().min()) + \" to \" + str(X['V'].unique().max()))\n",
    "print(\"Height(H) range: \" + str(X['H'].unique().min()) + \" to \" + str(X['H'].unique().max()))\n",
    "print(\"Soil(S) range: \" + str(X['S'].unique().min()) + \" to \" + str(X['S'].unique().max()))"
   ]
  },
  {
   "cell_type": "markdown",
   "metadata": {},
   "source": [
    "The voltage, height, and soil variables all are values between 0 and 1. This means the dataset is already normalized."
   ]
  },
  {
   "cell_type": "markdown",
   "metadata": {},
   "source": [
    "V = voltage: output voltage value of FLC sensor due to magnetic distortion\n",
    "\n",
    "H = high: the height of the sensor from the ground\n",
    "\n",
    "S = soil type: 6 different soil types depending on the moisture condition [dry and sandy, dry and humus, dry and limy, humid and sandy, humid and humus, humid and limy\n",
    "- 0.0 = Dry and Sandy\n",
    "- 0.2 = Dry and Humus\n",
    "- 0.4 = Dry and Limy\n",
    "- 0.6 = Humid and Sandy\n",
    "- 0.8 = Humid and Humus\n",
    "- 1.0 = Humid and Limy"
   ]
  },
  {
   "cell_type": "code",
   "execution_count": 7,
   "metadata": {},
   "outputs": [
    {
     "data": {
      "text/html": [
       "<div>\n",
       "<style scoped>\n",
       "    .dataframe tbody tr th:only-of-type {\n",
       "        vertical-align: middle;\n",
       "    }\n",
       "\n",
       "    .dataframe tbody tr th {\n",
       "        vertical-align: top;\n",
       "    }\n",
       "\n",
       "    .dataframe thead th {\n",
       "        text-align: right;\n",
       "    }\n",
       "</style>\n",
       "<table border=\"1\" class=\"dataframe\">\n",
       "  <thead>\n",
       "    <tr style=\"text-align: right;\">\n",
       "      <th></th>\n",
       "      <th>M</th>\n",
       "    </tr>\n",
       "  </thead>\n",
       "  <tbody>\n",
       "    <tr>\n",
       "      <th>0</th>\n",
       "      <td>1</td>\n",
       "    </tr>\n",
       "    <tr>\n",
       "      <th>1</th>\n",
       "      <td>1</td>\n",
       "    </tr>\n",
       "    <tr>\n",
       "      <th>2</th>\n",
       "      <td>1</td>\n",
       "    </tr>\n",
       "    <tr>\n",
       "      <th>3</th>\n",
       "      <td>1</td>\n",
       "    </tr>\n",
       "    <tr>\n",
       "      <th>4</th>\n",
       "      <td>1</td>\n",
       "    </tr>\n",
       "  </tbody>\n",
       "</table>\n",
       "</div>"
      ],
      "text/plain": [
       "   M\n",
       "0  1\n",
       "1  1\n",
       "2  1\n",
       "3  1\n",
       "4  1"
      ]
     },
     "execution_count": 7,
     "metadata": {},
     "output_type": "execute_result"
    }
   ],
   "source": [
    "y.head()"
   ]
  },
  {
   "cell_type": "code",
   "execution_count": 8,
   "metadata": {},
   "outputs": [
    {
     "name": "stdout",
     "output_type": "stream",
     "text": [
      "[1 2 3 4 5]\n"
     ]
    }
   ],
   "source": [
    "print(y['M'].unique())"
   ]
  },
  {
   "cell_type": "markdown",
   "metadata": {},
   "source": [
    "M = mine type: mine types commonly encountered on land (5 different mine classes)\n",
    "- 1 = Null\n",
    "- 2 = Anti-Tank\n",
    "- 3 = Anti-personnel\n",
    "- 4 = Booby-trapped Anti-personnel\n",
    "- 5 = M14 Anti-personnel"
   ]
  },
  {
   "cell_type": "markdown",
   "metadata": {},
   "source": [
    "There is an issue with how the mines are labeled. They should be labeled starting from 0, but they are labeled from 1. The PyTorch neural network requires the labels start from 0."
   ]
  },
  {
   "cell_type": "code",
   "execution_count": 9,
   "metadata": {},
   "outputs": [
    {
     "name": "stdout",
     "output_type": "stream",
     "text": [
      "[0 1 2 3 4]\n"
     ]
    }
   ],
   "source": [
    "y = y.replace([1, 2, 3, 4, 5], [0, 1, 2, 3, 4])\n",
    "print(y['M'].unique())"
   ]
  },
  {
   "cell_type": "code",
   "execution_count": 10,
   "metadata": {},
   "outputs": [
    {
     "data": {
      "text/plain": [
       "(338, 1)"
      ]
     },
     "execution_count": 10,
     "metadata": {},
     "output_type": "execute_result"
    }
   ],
   "source": [
    "y.shape"
   ]
  },
  {
   "cell_type": "code",
   "execution_count": 11,
   "metadata": {},
   "outputs": [
    {
     "data": {
      "text/plain": [
       "(338,)"
      ]
     },
     "execution_count": 11,
     "metadata": {},
     "output_type": "execute_result"
    }
   ],
   "source": [
    "y = y.squeeze() # So the data is the appropriate shape\n",
    "y.shape"
   ]
  },
  {
   "cell_type": "code",
   "execution_count": 12,
   "metadata": {},
   "outputs": [],
   "source": [
    "# Use oversampling to address class inbalance issue\n",
    "\n",
    "from imblearn.over_sampling import RandomOverSampler\n",
    "\n",
    "oversampler = RandomOverSampler(random_state=42)\n",
    "X, y = oversampler.fit_resample(X, y)\n",
    "\n",
    "# Split the data into training and testing sets\n",
    "X_train, X_test, y_train, y_test = train_test_split(X, y, test_size=0.2, random_state=42)\n",
    "\n",
    "# Standardize the features\n",
    "scaler = StandardScaler()\n",
    "X_train = scaler.fit_transform(X_train)\n",
    "X_test = scaler.transform(X_test)\n",
    "\n",
    "# After standardized, X_train and X_test will be converted from pandas data frame into numpy arrays. To make the type of X data the same as y data (pandas series), we convert X data back to pandas data frame.\n",
    "# The purpose of this step is to make the code syntax to convert X and y data to PyTorch tensors to be consistent.\n",
    "\n",
    "X_train = pd.DataFrame(X_train) \n",
    "X_test = pd.DataFrame(X_test) "
   ]
  },
  {
   "cell_type": "code",
   "execution_count": 13,
   "metadata": {},
   "outputs": [
    {
     "name": "stdout",
     "output_type": "stream",
     "text": [
      "torch.Size([284, 3]) torch.Size([284]) torch.Size([71, 3]) torch.Size([71])\n"
     ]
    }
   ],
   "source": [
    "# Convert the data to PyTorch tensors\n",
    "X_train_tensor = torch.tensor(X_train.values, dtype=torch.float32) # X_train.values will convert X_train from a pandas dataframe into an numpy array, which is required as the input type for torch.tensor().\n",
    "y_train_tensor = torch.tensor(y_train.values, dtype=torch.long) \n",
    "X_test_tensor = torch.tensor(X_test.values, dtype=torch.float32)\n",
    "y_test_tensor = torch.tensor(y_test.values, dtype=torch.long) \n",
    "\n",
    "print(X_train_tensor.shape, y_train_tensor.shape, X_test_tensor.shape, y_test_tensor.shape)"
   ]
  },
  {
   "cell_type": "code",
   "execution_count": 14,
   "metadata": {},
   "outputs": [],
   "source": [
    "# Create TensorDataset objects for train and test data\n",
    "train_dataset = TensorDataset(X_train_tensor, y_train_tensor)\n",
    "test_dataset = TensorDataset(X_test_tensor, y_test_tensor)\n",
    "\n",
    "# Create DataLoader objects for train and test datasets\n",
    "train_dataloader = DataLoader(train_dataset, batch_size=64, shuffle=True)\n",
    "test_dataloader = DataLoader(test_dataset, batch_size=64, shuffle=False)"
   ]
  },
  {
   "cell_type": "markdown",
   "metadata": {},
   "source": [
    "### Define the neural network"
   ]
  },
  {
   "cell_type": "code",
   "execution_count": 15,
   "metadata": {},
   "outputs": [],
   "source": [
    "# Define the neural network architecture\n",
    "class NeuralNetwork(nn.Module):\n",
    "    def __init__(self, input_size, hidden_size, num_classes):\n",
    "        super(NeuralNetwork, self).__init__()\n",
    "        self.fc1 = nn.Linear(input_size, hidden_size)\n",
    "        self.relu = nn.ReLU()\n",
    "        self.fc2 = nn.Linear(hidden_size, num_classes)\n",
    "    \n",
    "    def forward(self, x):\n",
    "        out = self.fc1(x)\n",
    "        out = self.relu(out)\n",
    "        out = self.fc2(out)\n",
    "        return out"
   ]
  },
  {
   "cell_type": "code",
   "execution_count": 16,
   "metadata": {},
   "outputs": [],
   "source": [
    "# Define hyperparameters\n",
    "\n",
    "input_size = X_train_tensor.shape[1]\n",
    "hidden_size = X_train_tensor.shape[1] * 2 # The size of hidden layer is arbitrarily chosen and can be tuned.\n",
    "num_classes = 5 # Number of classes in your multi-class classification problem\n",
    "\n",
    "# Instantiate the neural network model\n",
    "model = NeuralNetwork(input_size, hidden_size, num_classes)"
   ]
  },
  {
   "cell_type": "code",
   "execution_count": 17,
   "metadata": {},
   "outputs": [],
   "source": [
    "criterion = nn.CrossEntropyLoss() # CrossEntroyLoss \n",
    "optimizer = optim.Adam(model.parameters(), lr=0.001)"
   ]
  },
  {
   "cell_type": "markdown",
   "metadata": {},
   "source": [
    "### Train the neural network"
   ]
  },
  {
   "cell_type": "code",
   "execution_count": 18,
   "metadata": {},
   "outputs": [
    {
     "name": "stdout",
     "output_type": "stream",
     "text": [
      "Epoch [10/200], Loss: 1.6632\n",
      "Epoch [10/200], Loss: 1.5765\n",
      "Epoch [10/200], Loss: 1.6028\n",
      "Epoch [10/200], Loss: 1.5990\n",
      "Epoch [10/200], Loss: 1.6271\n",
      "Epoch [20/200], Loss: 1.5369\n",
      "Epoch [20/200], Loss: 1.6150\n",
      "Epoch [20/200], Loss: 1.6003\n",
      "Epoch [20/200], Loss: 1.5865\n",
      "Epoch [20/200], Loss: 1.5254\n",
      "Epoch [30/200], Loss: 1.5335\n",
      "Epoch [30/200], Loss: 1.5687\n",
      "Epoch [30/200], Loss: 1.5538\n",
      "Epoch [30/200], Loss: 1.5376\n",
      "Epoch [30/200], Loss: 1.5233\n",
      "Epoch [40/200], Loss: 1.5414\n",
      "Epoch [40/200], Loss: 1.4832\n",
      "Epoch [40/200], Loss: 1.4692\n",
      "Epoch [40/200], Loss: 1.5413\n",
      "Epoch [40/200], Loss: 1.5357\n",
      "Epoch [50/200], Loss: 1.4710\n",
      "Epoch [50/200], Loss: 1.4901\n",
      "Epoch [50/200], Loss: 1.4776\n",
      "Epoch [50/200], Loss: 1.4451\n",
      "Epoch [50/200], Loss: 1.4916\n",
      "Epoch [60/200], Loss: 1.4981\n",
      "Epoch [60/200], Loss: 1.4192\n",
      "Epoch [60/200], Loss: 1.4167\n",
      "Epoch [60/200], Loss: 1.4209\n",
      "Epoch [60/200], Loss: 1.3854\n",
      "Epoch [70/200], Loss: 1.4207\n",
      "Epoch [70/200], Loss: 1.3961\n",
      "Epoch [70/200], Loss: 1.3271\n",
      "Epoch [70/200], Loss: 1.4470\n",
      "Epoch [70/200], Loss: 1.3947\n",
      "Epoch [80/200], Loss: 1.4503\n",
      "Epoch [80/200], Loss: 1.3399\n",
      "Epoch [80/200], Loss: 1.3044\n",
      "Epoch [80/200], Loss: 1.3812\n",
      "Epoch [80/200], Loss: 1.3134\n",
      "Epoch [90/200], Loss: 1.3789\n",
      "Epoch [90/200], Loss: 1.2712\n",
      "Epoch [90/200], Loss: 1.3517\n",
      "Epoch [90/200], Loss: 1.2995\n",
      "Epoch [90/200], Loss: 1.4054\n",
      "Epoch [100/200], Loss: 1.3864\n",
      "Epoch [100/200], Loss: 1.3475\n",
      "Epoch [100/200], Loss: 1.1493\n",
      "Epoch [100/200], Loss: 1.3495\n",
      "Epoch [100/200], Loss: 1.3076\n",
      "Epoch [110/200], Loss: 1.3155\n",
      "Epoch [110/200], Loss: 1.2992\n",
      "Epoch [110/200], Loss: 1.2544\n",
      "Epoch [110/200], Loss: 1.2865\n",
      "Epoch [110/200], Loss: 1.2602\n",
      "Epoch [120/200], Loss: 1.3245\n",
      "Epoch [120/200], Loss: 1.2880\n",
      "Epoch [120/200], Loss: 1.2481\n",
      "Epoch [120/200], Loss: 1.1387\n",
      "Epoch [120/200], Loss: 1.3967\n",
      "Epoch [130/200], Loss: 1.2915\n",
      "Epoch [130/200], Loss: 1.2302\n",
      "Epoch [130/200], Loss: 1.2103\n",
      "Epoch [130/200], Loss: 1.2254\n",
      "Epoch [130/200], Loss: 1.2944\n",
      "Epoch [140/200], Loss: 1.2136\n",
      "Epoch [140/200], Loss: 1.1515\n",
      "Epoch [140/200], Loss: 1.2278\n",
      "Epoch [140/200], Loss: 1.3046\n",
      "Epoch [140/200], Loss: 1.2614\n",
      "Epoch [150/200], Loss: 1.1650\n",
      "Epoch [150/200], Loss: 1.2088\n",
      "Epoch [150/200], Loss: 1.2495\n",
      "Epoch [150/200], Loss: 1.1943\n",
      "Epoch [150/200], Loss: 1.2995\n",
      "Epoch [160/200], Loss: 1.2025\n",
      "Epoch [160/200], Loss: 1.1990\n",
      "Epoch [160/200], Loss: 1.1799\n",
      "Epoch [160/200], Loss: 1.2240\n",
      "Epoch [160/200], Loss: 1.2057\n",
      "Epoch [170/200], Loss: 1.1319\n",
      "Epoch [170/200], Loss: 1.2302\n",
      "Epoch [170/200], Loss: 1.2353\n",
      "Epoch [170/200], Loss: 1.1490\n",
      "Epoch [170/200], Loss: 1.2325\n",
      "Epoch [180/200], Loss: 1.1895\n",
      "Epoch [180/200], Loss: 1.1478\n",
      "Epoch [180/200], Loss: 1.1064\n",
      "Epoch [180/200], Loss: 1.2399\n",
      "Epoch [180/200], Loss: 1.2801\n",
      "Epoch [190/200], Loss: 1.1844\n",
      "Epoch [190/200], Loss: 1.2396\n",
      "Epoch [190/200], Loss: 1.0792\n",
      "Epoch [190/200], Loss: 1.1812\n",
      "Epoch [190/200], Loss: 1.1906\n",
      "Epoch [200/200], Loss: 1.0973\n",
      "Epoch [200/200], Loss: 1.2144\n",
      "Epoch [200/200], Loss: 1.1925\n",
      "Epoch [200/200], Loss: 1.2282\n",
      "Epoch [200/200], Loss: 0.9964\n",
      "\n",
      "Accuracy: 0.4507042253521127\n"
     ]
    }
   ],
   "source": [
    "# Training loop\n",
    "num_epochs = 200\n",
    "for epoch in range(num_epochs):\n",
    "    for inputs, labels in train_dataloader:\n",
    "        # Forward pass\n",
    "        outputs = model(inputs)\n",
    "        loss = criterion(outputs, labels)\n",
    "        \n",
    "        # Backward pass and optimization\n",
    "        optimizer.zero_grad()\n",
    "        loss.backward()\n",
    "        optimizer.step()\n",
    "\n",
    "        # Print progress\n",
    "        if (epoch+1) % 10 == 0:\n",
    "            print(f'Epoch [{epoch+1}/{num_epochs}], Loss: {loss.item():.4f}')\n",
    "\n",
    "print()\n",
    "\n",
    "# Evaluate the model's accuracy on the training set\n",
    "with torch.no_grad():\n",
    "    correct = 0\n",
    "    total = 0\n",
    "    for inputs, labels in train_dataloader:\n",
    "        outputs = model(inputs)\n",
    "        _, predicted = torch.max(outputs.data, 1)\n",
    "        total += labels.size(0)\n",
    "        correct += (predicted == labels).sum().item()\n",
    "\n",
    "    accuracy = correct / total\n",
    "    print('Accuracy:', accuracy)\n",
    "    "
   ]
  },
  {
   "cell_type": "markdown",
   "metadata": {},
   "source": [
    "### Evaluate the neural network"
   ]
  },
  {
   "cell_type": "code",
   "execution_count": 19,
   "metadata": {},
   "outputs": [
    {
     "name": "stdout",
     "output_type": "stream",
     "text": [
      "Accuracy: 0.43661971830985913\n"
     ]
    }
   ],
   "source": [
    "# Evaluate the model's accuracy on the testing set\n",
    "with torch.no_grad():\n",
    "    correct = 0\n",
    "    total = 0\n",
    "    for inputs, labels in test_dataloader:\n",
    "        outputs = model(inputs)\n",
    "        _, predicted = torch.max(outputs.data, 1)\n",
    "        total += labels.size(0)\n",
    "        correct += (predicted == labels).sum().item()\n",
    "\n",
    "    accuracy = correct / total\n",
    "    print('Accuracy:', accuracy)"
   ]
  },
  {
   "cell_type": "markdown",
   "metadata": {},
   "source": [
    "The mine detection and classification using the neural network is able to accurately identify the type of mine about 43% of the time"
   ]
  }
 ],
 "metadata": {
  "kernelspec": {
   "display_name": "Python 3",
   "language": "python",
   "name": "python3"
  },
  "language_info": {
   "codemirror_mode": {
    "name": "ipython",
    "version": 3
   },
   "file_extension": ".py",
   "mimetype": "text/x-python",
   "name": "python",
   "nbconvert_exporter": "python",
   "pygments_lexer": "ipython3",
   "version": "3.10.11"
  }
 },
 "nbformat": 4,
 "nbformat_minor": 2
}
